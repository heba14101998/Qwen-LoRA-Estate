{
 "cells": [
  {
   "cell_type": "markdown",
   "metadata": {},
   "source": [
    "# Base models Qwen3-06B and Gemini API\n"
   ]
  },
  {
   "cell_type": "markdown",
   "metadata": {},
   "source": [
    "This notebook is a **baseline evaluation** to assess the performance of pre-trained models (`gemini-2.0-flash` API, `Qwen3-065B` base, and our `Qwen-Lora-Estate` model) on the real estate price prediction task. \n",
    "\n",
    "The notebook performs the following steps:\n",
    "\n",
    "1. Load dataset from remote (Kaggle/Hugging Face).\n",
    "2. Preprocess dataset.\n",
    "3. Evaluate **pre-trained base** `Qwen\\Qwen3-0.6B` model using regression metrics.\n",
    "4. Evaluate Gemini **API** using regression metrics.\n",
    "5. Evaluate the performance of the **fine-tuned** `Qwen-Lora-Estate` model using regression metrics\n",
    "6. Final models results and report the amount of improvement."
   ]
  },
  {
   "cell_type": "markdown",
   "metadata": {
    "id": "ZU5_1OLopMUy"
   },
   "source": [
    "---\n",
    "## Setup\n",
    "---"
   ]
  },
  {
   "cell_type": "markdown",
   "metadata": {
    "id": "x4v0D3WgVvB8"
   },
   "source": [
    "### **Install Dependencies**"
   ]
  },
  {
   "cell_type": "code",
   "execution_count": 1,
   "metadata": {
    "colab": {
     "base_uri": "https://localhost:8080/"
    },
    "execution": {
     "iopub.execute_input": "2025-05-12T20:30:02.946058Z",
     "iopub.status.busy": "2025-05-12T20:30:02.945837Z",
     "iopub.status.idle": "2025-05-12T20:30:09.075580Z",
     "shell.execute_reply": "2025-05-12T20:30:09.074567Z",
     "shell.execute_reply.started": "2025-05-12T20:30:02.946035Z"
    },
    "id": "Yj6qTXvPpwyk",
    "outputId": "9bd2220a-0e37-4a3f-b594-7b1bdf031cae",
    "trusted": true
   },
   "outputs": [],
   "source": [
    "# !pip install -qU transformers wandb google-generativeai huggingface_hub[hf_xet]\n",
    "!pip install -qU  json_repair"
   ]
  },
  {
   "cell_type": "markdown",
   "metadata": {
    "id": "_l-cfEqOVzuF"
   },
   "source": [
    "### **Import Dependencies**"
   ]
  },
  {
   "cell_type": "code",
   "execution_count": 2,
   "metadata": {
    "execution": {
     "iopub.execute_input": "2025-05-12T20:30:09.077440Z",
     "iopub.status.busy": "2025-05-12T20:30:09.077142Z",
     "iopub.status.idle": "2025-05-12T20:30:25.813777Z",
     "shell.execute_reply": "2025-05-12T20:30:25.813206Z",
     "shell.execute_reply.started": "2025-05-12T20:30:09.077418Z"
    },
    "id": "mAre3Yb9TEj9",
    "scrolled": true,
    "trusted": true
   },
   "outputs": [],
   "source": [
    "import os\n",
    "import json\n",
    "import torch\n",
    "import json_repair\n",
    "import pandas as pd\n",
    "from IPython.display import JSON\n",
    "from tqdm import tqdm\n",
    "\n",
    "from transformers import AutoModelForCausalLM, AutoTokenizer\n",
    "import google.generativeai as genai\n",
    "\n",
    "# my custom modules\n",
    "from utils import logging_config, evaluate_model, timeit\n",
    "from fine_tuning_helpers import apply_prompt_template, decode_response"
   ]
  },
  {
   "cell_type": "code",
   "execution_count": 3,
   "metadata": {
    "execution": {
     "iopub.execute_input": "2025-05-12T20:30:25.814717Z",
     "iopub.status.busy": "2025-05-12T20:30:25.814393Z",
     "iopub.status.idle": "2025-05-12T20:30:25.821186Z",
     "shell.execute_reply": "2025-05-12T20:30:25.820687Z",
     "shell.execute_reply.started": "2025-05-12T20:30:25.814701Z"
    },
    "trusted": true
   },
   "outputs": [
    {
     "data": {
      "text/plain": [
       "<_Logger utils (INFO)>"
      ]
     },
     "execution_count": 3,
     "metadata": {},
     "output_type": "execute_result"
    }
   ],
   "source": [
    "os.environ['LOGS'] = '/kaggle/working/logs'\n",
    "os.environ['RESULTS'] = '/kaggle/working/results'\n",
    "\n",
    "os.makedirs(os.environ['LOGS'], exist_ok=True )\n",
    "os.makedirs(os.environ['RESULTS'], exist_ok=True )\n",
    "\n",
    "LOGGER = logging_config(log_dir=os.environ['LOGS'])\n",
    "LOGGER"
   ]
  },
  {
   "cell_type": "markdown",
   "metadata": {},
   "source": [
    "### **Define Tokens and Authenticate**"
   ]
  },
  {
   "cell_type": "code",
   "execution_count": 4,
   "metadata": {
    "execution": {
     "iopub.execute_input": "2025-05-12T20:31:33.291646Z",
     "iopub.status.busy": "2025-05-12T20:31:33.291135Z",
     "iopub.status.idle": "2025-05-12T20:31:33.560830Z",
     "shell.execute_reply": "2025-05-12T20:31:33.560339Z",
     "shell.execute_reply.started": "2025-05-12T20:31:33.291623Z"
    },
    "trusted": true
   },
   "outputs": [],
   "source": [
    "# If using kaggle \n",
    "from kaggle_secrets import UserSecretsClient\n",
    "\n",
    "user_secrets = UserSecretsClient()\n",
    "hf_token = user_secrets.get_secret(\"HUGGINGFACEHUB_API_TOKEN\")\n",
    "gemini_token = user_secrets.get_secret(\"GOOGLE_API_KEY\")\n",
    "\n",
    "# uncomment if using colab\n",
    "# from google.colab import userdata\n",
    "# hf_token = userdata.get(\"HUGGINGFACEHUB_API_TOKEN\")\n",
    "# gemini_token = userdata.get(\"GOOGLE_API_KEY\")"
   ]
  },
  {
   "cell_type": "code",
   "execution_count": 5,
   "metadata": {
    "execution": {
     "iopub.execute_input": "2025-05-12T20:31:34.062049Z",
     "iopub.status.busy": "2025-05-12T20:31:34.061851Z",
     "iopub.status.idle": "2025-05-12T20:31:34.172593Z",
     "shell.execute_reply": "2025-05-12T20:31:34.172096Z",
     "shell.execute_reply.started": "2025-05-12T20:31:34.062034Z"
    },
    "trusted": true
   },
   "outputs": [],
   "source": [
    "from huggingface_hub import whoami, login\n",
    "\n",
    "# !huggingface-cli login --token {mytoken} # another method\n",
    "login(token = hf_token)\n",
    "genai.configure(api_key=gemini_token)\n",
    "# JSON(whoami())"
   ]
  },
  {
   "cell_type": "code",
   "execution_count": 20,
   "metadata": {
    "colab": {
     "base_uri": "https://localhost:8080/",
     "height": 84,
     "referenced_widgets": [
      "ca360e1b101d4395af434fc52908477b",
      "da45d9a4491f4bb49a94d3a6f390e904",
      "6edbbdb4f52b4a4d84c5ae9c986ce926",
      "ff752a123aec447cbc4ee24fd02fa347",
      "9ec64b1bfc0647bb96bf803c2068d7b5",
      "535e2f372f74492dbdfccf95fa2ccc51",
      "949aca8fdc584623b1e7d456d4f33bd9",
      "504a7821b59d4524b299cd127e34865c",
      "1c3f73d6e7d64e568520935df91bc862",
      "b198176b8666463bb22fc74613ca81c7",
      "85a6a112fef043869b3f3f26a9afde08",
      "290db3966a504b47bf6e23814a0b59c7",
      "7bca60effe184c59a2f2f9722f402d49",
      "0fc862d1f32d4222a9eab0d3d3363952",
      "9593f1f003a64cf9a96900362576b76a",
      "bca663d78c5b48c3a8a5cbab44403501",
      "e56dc41c9e1a4922849bb6f3ac85385d",
      "4f924d63bc0243798fcc0dcf91f640ae",
      "74c6f83c2e6f41c9aeb0ba8cfd0c1e3d",
      "5ca49aef822a4aa8acd9a7d8efa73235",
      "0b16163efaa3467aac8c6c3a381acc04",
      "33466bd6149a4381b88c4fd4f96d441f",
      "88bd985ff0b241d29edf9d93f83fb6ce"
     ]
    },
    "execution": {
     "iopub.execute_input": "2025-05-12T18:19:36.744341Z",
     "iopub.status.busy": "2025-05-12T18:19:36.744132Z",
     "iopub.status.idle": "2025-05-12T18:19:36.747309Z",
     "shell.execute_reply": "2025-05-12T18:19:36.746605Z",
     "shell.execute_reply.started": "2025-05-12T18:19:36.744326Z"
    },
    "id": "-PA52fS9nN3f",
    "outputId": "53053baf-1b08-4315-b578-df27ae312e89",
    "trusted": true
   },
   "outputs": [],
   "source": [
    "# uncomment if using colab\n",
    "# import kagglehub\n",
    "# kagglehub.login(validate_credentials=True)"
   ]
  },
  {
   "cell_type": "markdown",
   "metadata": {
    "id": "o-B1psKPpKQ9"
   },
   "source": [
    "---\n",
    "## Load Dataset\n",
    "---"
   ]
  },
  {
   "cell_type": "markdown",
   "metadata": {},
   "source": [
    "### Read data from remote (Kaggle/Hugging Face)"
   ]
  },
  {
   "cell_type": "markdown",
   "metadata": {
    "id": "5Ix7pknmVppL"
   },
   "source": [
    "**Download the dataset from Kaggle**"
   ]
  },
  {
   "cell_type": "code",
   "execution_count": null,
   "metadata": {
    "colab": {
     "base_uri": "https://localhost:8080/",
     "height": 35
    },
    "id": "0L9nwgUziDkG",
    "outputId": "8654634a-1dd1-4b11-9f73-ba03b9f14ec0",
    "trusted": true
   },
   "outputs": [],
   "source": [
    "# # Uncomment if using colab\n",
    "\n",
    "# kagglehub.dataset_download('hebamo7amed/real-estate-data-for-llm-fine-tuning')\n",
    "# tabular_data_path = f\"{data_path}/tabular_data\"\n",
    "# text_data_path = f\"{data_path}/text_data\"\n",
    "# text_data_path"
   ]
  },
  {
   "cell_type": "markdown",
   "metadata": {
    "id": "qPq5gXZvZ-5x"
   },
   "source": [
    "**Read Text Datasets**"
   ]
  },
  {
   "cell_type": "code",
   "execution_count": null,
   "metadata": {
    "colab": {
     "base_uri": "https://localhost:8080/"
    },
    "id": "e38k8TCHUkf6",
    "outputId": "38acf928-6ee3-465b-ff27-2d48fc413361",
    "trusted": true
   },
   "outputs": [],
   "source": [
    "# with open(f\"{text_data_path}/text_train_data.jsonl\", \"r\") as f:\n",
    "#   train_data = json.load(f)\n",
    "\n",
    "# with open(f\"{text_data_path}/text_val_data.jsonl\", \"r\") as f:\n",
    "#   val_data = json.load(f)\n",
    "\n",
    "# with open(f\"{text_data_path}/sample_50.jsonl\", \"r\") as f:\n",
    "#   sample_data = json.load(f)\n",
    "\n",
    "# print(\"Training data size = \", len(train_data))\n",
    "# print(\"Validation data size = \", len(val_data))\n",
    "# print(\"Sample data size = \", len(sample_data))"
   ]
  },
  {
   "cell_type": "markdown",
   "metadata": {},
   "source": [
    "### **Load Dataset Sample from hugging Face Hub**\n",
    "\n",
    "A data sample that was created from structured real estate data and uploaded to Hugging Face in the first notebook. It is formatted for ion-based fine-tuning an LLM."
   ]
  },
  {
   "cell_type": "code",
   "execution_count": 6,
   "metadata": {
    "execution": {
     "iopub.execute_input": "2025-05-12T20:31:38.279369Z",
     "iopub.status.busy": "2025-05-12T20:31:38.278852Z",
     "iopub.status.idle": "2025-05-12T20:31:43.649003Z",
     "shell.execute_reply": "2025-05-12T20:31:43.648452Z",
     "shell.execute_reply.started": "2025-05-12T20:31:38.279345Z"
    },
    "trusted": true
   },
   "outputs": [
    {
     "data": {
      "application/vnd.jupyter.widget-view+json": {
       "model_id": "7a19aa8bde0143869210408792bdca76",
       "version_major": 2,
       "version_minor": 0
      },
      "text/plain": [
       "README.md:   0%|          | 0.00/88.0 [00:00<?, ?B/s]"
      ]
     },
     "metadata": {},
     "output_type": "display_data"
    },
    {
     "data": {
      "application/vnd.jupyter.widget-view+json": {
       "model_id": "b496de2e60d24a2d8741cf661529596e",
       "version_major": 2,
       "version_minor": 0
      },
      "text/plain": [
       "llm_train_data.jsonl:   0%|          | 0.00/5.54M [00:00<?, ?B/s]"
      ]
     },
     "metadata": {},
     "output_type": "display_data"
    },
    {
     "data": {
      "application/vnd.jupyter.widget-view+json": {
       "model_id": "0b70c2e9065a49c29d0c6023e1556e9c",
       "version_major": 2,
       "version_minor": 0
      },
      "text/plain": [
       "llm_val_data.jsonl:   0%|          | 0.00/222k [00:00<?, ?B/s]"
      ]
     },
     "metadata": {},
     "output_type": "display_data"
    },
    {
     "data": {
      "application/vnd.jupyter.widget-view+json": {
       "model_id": "e9112c0312bb45529b4649dde4aac6c6",
       "version_major": 2,
       "version_minor": 0
      },
      "text/plain": [
       "Generating train split:   0%|          | 0/5000 [00:00<?, ? examples/s]"
      ]
     },
     "metadata": {},
     "output_type": "display_data"
    },
    {
     "data": {
      "application/vnd.jupyter.widget-view+json": {
       "model_id": "7c0d79d528f5466fa973e4ccb38b4347",
       "version_major": 2,
       "version_minor": 0
      },
      "text/plain": [
       "Generating validation split:   0%|          | 0/200 [00:00<?, ? examples/s]"
      ]
     },
     "metadata": {},
     "output_type": "display_data"
    },
    {
     "data": {
      "text/plain": [
       "DatasetDict({\n",
       "    train: Dataset({\n",
       "        features: ['system', 'instruction', 'input', 'output', 'history'],\n",
       "        num_rows: 5000\n",
       "    })\n",
       "    validation: Dataset({\n",
       "        features: ['system', 'instruction', 'input', 'output', 'history'],\n",
       "        num_rows: 200\n",
       "    })\n",
       "})"
      ]
     },
     "execution_count": 6,
     "metadata": {},
     "output_type": "execute_result"
    }
   ],
   "source": [
    "from datasets import load_dataset\n",
    "dataset = load_dataset(\n",
    "    path  ='heba1998/real-estate-data-sample-for-llm-fine-tuning'\n",
    ")\n",
    "dataset"
   ]
  },
  {
   "cell_type": "code",
   "execution_count": 7,
   "metadata": {
    "execution": {
     "iopub.execute_input": "2025-05-12T20:31:45.007240Z",
     "iopub.status.busy": "2025-05-12T20:31:45.006975Z",
     "iopub.status.idle": "2025-05-12T20:31:45.034842Z",
     "shell.execute_reply": "2025-05-12T20:31:45.034350Z",
     "shell.execute_reply.started": "2025-05-12T20:31:45.007215Z"
    },
    "trusted": true
   },
   "outputs": [],
   "source": [
    "# Convert data to list of jsons or ``jsonl``\n",
    "val_data = [sample for sample in dataset['validation']]\n",
    "house_price = lambda sample : json_repair.loads(sample['output'])['estimated_house_price']\n",
    "true_labels = [ house_price(sample) for sample in dataset['validation']]"
   ]
  },
  {
   "cell_type": "markdown",
   "metadata": {
    "id": "KQQ4gDLjLJ8V"
   },
   "source": [
    "---\n",
    "## Evaluate Responses of `gemini-2.0-flash` Model\n",
    "---\n",
    "\n",
    "Evaluate the responses from Gemini API using regression metrics."
   ]
  },
  {
   "cell_type": "markdown",
   "metadata": {},
   "source": [
    "### **Helper Function to get responses from `genai` SDK API**\n",
    "\n",
    "This function uses another function from the `fine_tuning_helpers.py` and `utils` utility scripts."
   ]
  },
  {
   "cell_type": "code",
   "execution_count": 13,
   "metadata": {
    "execution": {
     "iopub.execute_input": "2025-05-12T20:36:34.907925Z",
     "iopub.status.busy": "2025-05-12T20:36:34.907286Z",
     "iopub.status.idle": "2025-05-12T20:36:34.914579Z",
     "shell.execute_reply": "2025-05-12T20:36:34.913991Z",
     "shell.execute_reply.started": "2025-05-12T20:36:34.907894Z"
    },
    "trusted": true
   },
   "outputs": [],
   "source": [
    "from fine_tuning_helpers import extract_house_price\n",
    "\n",
    "@timeit\n",
    "def batch_api_generate(model, data, model_id = 'gemini'):\n",
    "    llm_predictions = []\n",
    "    tokens_history = []\n",
    "    bar_format = '{l_bar}{bar}| {n_fmt}/{total_fmt} [{elapsed}<{remaining}]'\n",
    "    \n",
    "    for idx, sample in enumerate(tqdm(data, total=len(data),\n",
    "                                 desc=f\"Get response from pre-trained `{model_id}` model\",\n",
    "                                 ncols=100, colour='green')):\n",
    "        LOGGER.info(\"-\"*50)\n",
    "        LOGGER.info(f\"Sample id {idx}\")\n",
    "        LOGGER.info(\"-\"*50)\n",
    "        # 1. PREPROCESSING: \n",
    "        # build the system and user prompt with the model chat template\n",
    "        prompt= apply_prompt_template(sample)\n",
    "\n",
    "        # 2. GENERATION: Generate response\n",
    "        response = model.generate_content(prompt)\n",
    "        text_response = response.candidates[0].content.parts[0].text\n",
    "\n",
    "        # 4. POSTPROCESSING:  return only the output tokens and  exclude input ids\n",
    "        LOGGER.info(f\"Response text for sample id={idx} \\n {text_response}\" )\n",
    "        \n",
    "        # Clean response\n",
    "        house_price = extract_house_price(text_response)\n",
    "        LOGGER.info(f\"\\t>> Predicted price: {house_price}\")\n",
    "        llm_predictions.append(int(house_price))\n",
    "        \n",
    "        # Store metadata for expenses calculation\n",
    "        tokens_history.append({\n",
    "                'id': idx,\n",
    "                'input_tokens': response.usage_metadata.prompt_token_count, \n",
    "                'output_tokens': response.usage_metadata.candidates_token_count,\n",
    "                'total_tokens': response.usage_metadata.total_token_count\n",
    "            })\n",
    "            \n",
    "        LOGGER.debug(f\"Updated tokens history for {idx}\")\n",
    "\n",
    "    return llm_predictions, tokens_history"
   ]
  },
  {
   "cell_type": "code",
   "execution_count": 9,
   "metadata": {
    "collapsed": true,
    "execution": {
     "iopub.execute_input": "2025-05-12T20:31:48.589209Z",
     "iopub.status.busy": "2025-05-12T20:31:48.588972Z",
     "iopub.status.idle": "2025-05-12T20:31:48.777380Z",
     "shell.execute_reply": "2025-05-12T20:31:48.776826Z",
     "shell.execute_reply.started": "2025-05-12T20:31:48.589191Z"
    },
    "id": "iBkMuyuKB7Jg",
    "jupyter": {
     "outputs_hidden": true
    },
    "trusted": true
   },
   "outputs": [
    {
     "data": {
      "text/plain": [
       "['models/chat-bison-001',\n",
       " 'models/text-bison-001',\n",
       " 'models/embedding-gecko-001',\n",
       " 'models/gemini-1.0-pro-vision-latest',\n",
       " 'models/gemini-pro-vision',\n",
       " 'models/gemini-1.5-pro-latest',\n",
       " 'models/gemini-1.5-pro-001',\n",
       " 'models/gemini-1.5-pro-002',\n",
       " 'models/gemini-1.5-pro',\n",
       " 'models/gemini-1.5-flash-latest',\n",
       " 'models/gemini-1.5-flash-001',\n",
       " 'models/gemini-1.5-flash-001-tuning',\n",
       " 'models/gemini-1.5-flash',\n",
       " 'models/gemini-1.5-flash-002',\n",
       " 'models/gemini-1.5-flash-8b',\n",
       " 'models/gemini-1.5-flash-8b-001',\n",
       " 'models/gemini-1.5-flash-8b-latest',\n",
       " 'models/gemini-1.5-flash-8b-exp-0827',\n",
       " 'models/gemini-1.5-flash-8b-exp-0924',\n",
       " 'models/gemini-2.5-pro-exp-03-25',\n",
       " 'models/gemini-2.5-pro-preview-03-25',\n",
       " 'models/gemini-2.5-flash-preview-04-17',\n",
       " 'models/gemini-2.5-flash-preview-04-17-thinking',\n",
       " 'models/gemini-2.5-pro-preview-05-06',\n",
       " 'models/gemini-2.0-flash-exp',\n",
       " 'models/gemini-2.0-flash',\n",
       " 'models/gemini-2.0-flash-001',\n",
       " 'models/gemini-2.0-flash-exp-image-generation',\n",
       " 'models/gemini-2.0-flash-lite-001',\n",
       " 'models/gemini-2.0-flash-lite',\n",
       " 'models/gemini-2.0-flash-preview-image-generation',\n",
       " 'models/gemini-2.0-flash-lite-preview-02-05',\n",
       " 'models/gemini-2.0-flash-lite-preview',\n",
       " 'models/gemini-2.0-pro-exp',\n",
       " 'models/gemini-2.0-pro-exp-02-05',\n",
       " 'models/gemini-exp-1206',\n",
       " 'models/gemini-2.0-flash-thinking-exp-01-21',\n",
       " 'models/gemini-2.0-flash-thinking-exp',\n",
       " 'models/gemini-2.0-flash-thinking-exp-1219',\n",
       " 'models/learnlm-1.5-pro-experimental',\n",
       " 'models/learnlm-2.0-flash-experimental',\n",
       " 'models/gemma-3-1b-it',\n",
       " 'models/gemma-3-4b-it',\n",
       " 'models/gemma-3-12b-it',\n",
       " 'models/gemma-3-27b-it',\n",
       " 'models/embedding-001',\n",
       " 'models/text-embedding-004',\n",
       " 'models/gemini-embedding-exp-03-07',\n",
       " 'models/gemini-embedding-exp',\n",
       " 'models/aqa',\n",
       " 'models/imagen-3.0-generate-002',\n",
       " 'models/gemini-2.0-flash-live-001']"
      ]
     },
     "execution_count": 9,
     "metadata": {},
     "output_type": "execute_result"
    }
   ],
   "source": [
    "list(model.name for model in genai.list_models())"
   ]
  },
  {
   "cell_type": "markdown",
   "metadata": {},
   "source": [
    "### **Generate Response using Gemini.**\n",
    "\n",
    "Generate responses from `gemini-2.0-flash` in the validation dataset."
   ]
  },
  {
   "cell_type": "code",
   "execution_count": null,
   "metadata": {
    "id": "oyp-D90YCdIN",
    "trusted": true
   },
   "outputs": [],
   "source": [
    "import google.generativeai as genai\n",
    "import numpy as np\n",
    "\n",
    "Configs = genai.GenerationConfig(max_output_tokens=200)\n",
    "\n",
    "model_id = \"models/gemini-2.0-flash\"\n",
    "gemini = genai.GenerativeModel(model_name=model_id,\n",
    "                               generation_config=Configs)\n",
    "\n",
    "gemini_preds_list, gemini_history = batch_api_generate(gemini, val_data, model_id)"
   ]
  },
  {
   "cell_type": "markdown",
   "metadata": {
    "id": "K3OCT8N8JWBX"
   },
   "source": [
    "### **Evaluation Metrics for `gemini-2.0-flash` Model**\n",
    "\n",
    "This function is implemented in the `utils.py` utility script."
   ]
  },
  {
   "cell_type": "code",
   "execution_count": null,
   "metadata": {
    "execution": {
     "iopub.status.busy": "2025-05-12T20:32:01.162463Z",
     "iopub.status.idle": "2025-05-12T20:32:01.162696Z",
     "shell.execute_reply": "2025-05-12T20:32:01.162599Z",
     "shell.execute_reply.started": "2025-05-12T20:32:01.162588Z"
    },
    "trusted": true
   },
   "outputs": [],
   "source": [
    "print(\"Actual Price\", true_labels[:10])\n",
    "print(\"Predicted Prices\", gemini_preds_list[:10])"
   ]
  },
  {
   "cell_type": "markdown",
   "metadata": {},
   "source": [
    "> **`-1`** indecate to that gemini didn't produce the result."
   ]
  },
  {
   "cell_type": "markdown",
   "metadata": {},
   "source": [
    "**Evaluation Metrics and Predictions for `gemini-2.0-flash-exp` Model**"
   ]
  },
  {
   "cell_type": "code",
   "execution_count": 89,
   "metadata": {
    "execution": {
     "iopub.execute_input": "2025-05-12T21:13:32.014918Z",
     "iopub.status.busy": "2025-05-12T21:13:32.014677Z",
     "iopub.status.idle": "2025-05-12T21:13:32.020952Z",
     "shell.execute_reply": "2025-05-12T21:13:32.020351Z",
     "shell.execute_reply.started": "2025-05-12T21:13:32.014901Z"
    },
    "id": "v0DpDsevIw4p",
    "trusted": true
   },
   "outputs": [
    {
     "data": {
      "application/json": {
       "MAE": 390199.94,
       "MSE": 404732979411.82,
       "R2": -0.4536350090185375,
       "RMSE": 636186.2772897731,
       "eval_device": "remote-api",
       "eval_time (min)": 2.45,
       "in_token_limit": "~1M",
       "model_name": "gemini-2.0-flash",
       "n_params": "~8B",
       "n_samples": 200,
       "out_token_limit": "~8K",
       "response_time (min)": 0.01225,
       "size": "-"
      },
      "text/plain": [
       "<IPython.core.display.JSON object>"
      ]
     },
     "execution_count": 89,
     "metadata": {
      "application/json": {
       "expanded": false,
       "root": "root"
      }
     },
     "output_type": "execute_result"
    }
   ],
   "source": [
    "gemini_results = evaluate_model(true_labels, gemini_preds_list)\n",
    "\n",
    "gemini_results[\"n_samples\"] = len(val_data)\n",
    "gemini_results[\"eval_time (min)\"] = 2.45\n",
    "gemini_results[\"response_time (min)\"] = 2.45 / len(val_data)\n",
    "gemini_results[\"eval_device\"] = \"remote-api\"\n",
    "gemini_results[\"model_name\"] = model_id.split('/')[-1]\n",
    "\n",
    "gemini_results[\"in_token_limit\"]= \"~1M\"\n",
    "gemini_results[\"out_token_limit\"]=\"~8K\"\n",
    "gemini_results[\"n_params\"]= \"~8B\"\n",
    "gemini_results[\"size\"]=\"-\"\n",
    "\n",
    "JSON(gemini_results)"
   ]
  },
  {
   "cell_type": "code",
   "execution_count": 75,
   "metadata": {
    "execution": {
     "iopub.execute_input": "2025-05-12T21:08:10.070606Z",
     "iopub.status.busy": "2025-05-12T21:08:10.070003Z",
     "iopub.status.idle": "2025-05-12T21:08:10.080354Z",
     "shell.execute_reply": "2025-05-12T21:08:10.079704Z",
     "shell.execute_reply.started": "2025-05-12T21:08:10.070580Z"
    },
    "trusted": true
   },
   "outputs": [
    {
     "name": "stdout",
     "output_type": "stream",
     "text": [
      ">>>>>> Gemini can't predict 70% from the given data <<<<<<\n"
     ]
    },
    {
     "data": {
      "text/html": [
       "<div>\n",
       "<style scoped>\n",
       "    .dataframe tbody tr th:only-of-type {\n",
       "        vertical-align: middle;\n",
       "    }\n",
       "\n",
       "    .dataframe tbody tr th {\n",
       "        vertical-align: top;\n",
       "    }\n",
       "\n",
       "    .dataframe thead th {\n",
       "        text-align: right;\n",
       "    }\n",
       "</style>\n",
       "<table border=\"1\" class=\"dataframe\">\n",
       "  <thead>\n",
       "    <tr style=\"text-align: right;\">\n",
       "      <th></th>\n",
       "      <th>id</th>\n",
       "      <th>input_tokens</th>\n",
       "      <th>output_tokens</th>\n",
       "      <th>total_tokens</th>\n",
       "      <th>y_actual</th>\n",
       "      <th>y_pred</th>\n",
       "    </tr>\n",
       "  </thead>\n",
       "  <tbody>\n",
       "    <tr>\n",
       "      <th>0</th>\n",
       "      <td>0</td>\n",
       "      <td>244</td>\n",
       "      <td>264</td>\n",
       "      <td>508</td>\n",
       "      <td>2500000.0</td>\n",
       "      <td>55000</td>\n",
       "    </tr>\n",
       "    <tr>\n",
       "      <th>1</th>\n",
       "      <td>1</td>\n",
       "      <td>246</td>\n",
       "      <td>266</td>\n",
       "      <td>512</td>\n",
       "      <td>295000.0</td>\n",
       "      <td>128000</td>\n",
       "    </tr>\n",
       "    <tr>\n",
       "      <th>2</th>\n",
       "      <td>2</td>\n",
       "      <td>245</td>\n",
       "      <td>265</td>\n",
       "      <td>510</td>\n",
       "      <td>299900.0</td>\n",
       "      <td>85000</td>\n",
       "    </tr>\n",
       "    <tr>\n",
       "      <th>3</th>\n",
       "      <td>3</td>\n",
       "      <td>246</td>\n",
       "      <td>266</td>\n",
       "      <td>512</td>\n",
       "      <td>699000.0</td>\n",
       "      <td>85000</td>\n",
       "    </tr>\n",
       "    <tr>\n",
       "      <th>4</th>\n",
       "      <td>4</td>\n",
       "      <td>245</td>\n",
       "      <td>265</td>\n",
       "      <td>510</td>\n",
       "      <td>239000.0</td>\n",
       "      <td>85000</td>\n",
       "    </tr>\n",
       "  </tbody>\n",
       "</table>\n",
       "</div>"
      ],
      "text/plain": [
       "   id  input_tokens  output_tokens  total_tokens   y_actual  y_pred\n",
       "0   0           244            264           508  2500000.0   55000\n",
       "1   1           246            266           512   295000.0  128000\n",
       "2   2           245            265           510   299900.0   85000\n",
       "3   3           246            266           512   699000.0   85000\n",
       "4   4           245            265           510   239000.0   85000"
      ]
     },
     "execution_count": 75,
     "metadata": {},
     "output_type": "execute_result"
    }
   ],
   "source": [
    "gemini_preds = pd.DataFrame(gemini_history)\n",
    "gemini_preds['y_actual'] = true_labels\n",
    "gemini_preds['y_pred'] = gemini_preds_list\n",
    "\n",
    "missed_prec = len(gemini_preds[gemini_preds['y_pred']==-1]) * 100 /len(val_data)\n",
    "gemini_results[\"missing_pred(%)\"] = missed_prec\n",
    "\n",
    "print(f\">>>>>> Gemini can't predict {missed_prec}% from the given data <<<<<<\")\n",
    "gemini_preds.head(5)"
   ]
  },
  {
   "cell_type": "markdown",
   "metadata": {},
   "source": [
    "**Save `gemini-2.0-flash-exp` Results**"
   ]
  },
  {
   "cell_type": "code",
   "execution_count": 128,
   "metadata": {
    "execution": {
     "iopub.execute_input": "2025-05-12T21:25:01.425341Z",
     "iopub.status.busy": "2025-05-12T21:25:01.424774Z",
     "iopub.status.idle": "2025-05-12T21:25:01.431255Z",
     "shell.execute_reply": "2025-05-12T21:25:01.430528Z",
     "shell.execute_reply.started": "2025-05-12T21:25:01.425318Z"
    },
    "trusted": true
   },
   "outputs": [],
   "source": [
    "with open(f\"{os.environ['RESULTS']}/gemini_results.json\", 'w') as json_file:\n",
    "    json.dump(gemini_results, json_file, indent=4)\n",
    "\n",
    "gemini_preds.to_csv(f\"{os.environ['RESULTS']}/gemini_preds.csv\", index=False)"
   ]
  },
  {
   "cell_type": "markdown",
   "metadata": {
    "id": "2XEQiv5qe6yp"
   },
   "source": [
    "---\n",
    "## Evaluate Responses from Pre-Trained Base LM `Qwen3-0.6B`\n",
    "---"
   ]
  },
  {
   "cell_type": "markdown",
   "metadata": {},
   "source": [
    "### **Helper Function to get responses for base model**\n",
    "\n",
    "This function uses another function from the `fine_tuning_helpers.py` and `utils` utility scripts."
   ]
  },
  {
   "cell_type": "code",
   "execution_count": 78,
   "metadata": {
    "execution": {
     "iopub.execute_input": "2025-05-12T21:08:56.843980Z",
     "iopub.status.busy": "2025-05-12T21:08:56.843321Z",
     "iopub.status.idle": "2025-05-12T21:08:56.850111Z",
     "shell.execute_reply": "2025-05-12T21:08:56.849516Z",
     "shell.execute_reply.started": "2025-05-12T21:08:56.843958Z"
    },
    "trusted": true
   },
   "outputs": [],
   "source": [
    "@timeit\n",
    "def batch_generate(model, tokenizer, data, device, color = 'green'):\n",
    "    predictions = []\n",
    "    tokens_history = []\n",
    "    bar_format = '{l_bar}{bar}| {n_fmt}/{total_fmt} [{elapsed}<{remaining}]'\n",
    "    \n",
    "    for idx, sample in enumerate(\n",
    "                 tqdm(data, total=len(data),\n",
    "                 desc=\"Get response from pre-trained `Qwen3-0.6B` model\",\n",
    "                 ncols=100, colour=color) ):\n",
    "        \n",
    "        # 1. PREPROCESSING: \n",
    "        # build the system and user prompt with the model chat template\n",
    "        prompt = apply_prompt_template(sample)\n",
    "\n",
    "        # 2. TOKENIZATION: Tokenize the text prompt message\n",
    "        inputs = tokenizer([prompt], return_tensors=\"pt\").to(device)\n",
    "        n_input_tokens = len(inputs.input_ids[0])\n",
    "        LOGGER.info(f\"\\t>> Tokenized to {n_input_tokens} tokens\")\n",
    "        \n",
    "        # 3. GENERATION: Generate response\n",
    "        response_tokens_ids = model.generate(\n",
    "            inputs=inputs.input_ids,\n",
    "            attention_mask=inputs.attention_mask,\n",
    "        )\n",
    "        n_output_tokens = len(response_tokens_ids[0])\n",
    "\n",
    "        # 4. POSTPROCESSING: Return only the output tokens and  exclude input ids and then clean response\n",
    "        response_text = decode_response(response_tokens_ids, inputs.input_ids, tokenizer)\n",
    "        response_dict = json_repair.loads(response_text)            \n",
    "        try:\n",
    "            house_price = response_dict[\"estimated_house_price\"]\n",
    "        except:\n",
    "            try:\n",
    "                house_price = response_dict[0][\"estimated_house_price\"]\n",
    "            except: \n",
    "                print(response_dict)\n",
    "                house_price = -1\n",
    "        predictions.append(int(house_price))\n",
    "        \n",
    "        # Store BAse model metadata for cost calculation\n",
    "        tokens_history.append({\n",
    "                'id': idx,\n",
    "                'input_tokens': n_input_tokens, \n",
    "                'output_tokens': n_output_tokens,\n",
    "                'total_tokens': n_input_tokens + n_output_tokens\n",
    "            })\n",
    "            \n",
    "    return predictions, tokens_history"
   ]
  },
  {
   "cell_type": "markdown",
   "metadata": {},
   "source": [
    "### **Load `Qwen3-0.6B` from Hugging Face**"
   ]
  },
  {
   "cell_type": "code",
   "execution_count": 79,
   "metadata": {
    "execution": {
     "iopub.execute_input": "2025-05-12T21:09:01.369628Z",
     "iopub.status.busy": "2025-05-12T21:09:01.369359Z",
     "iopub.status.idle": "2025-05-12T21:09:04.383823Z",
     "shell.execute_reply": "2025-05-12T21:09:04.383001Z",
     "shell.execute_reply.started": "2025-05-12T21:09:01.369608Z"
    },
    "trusted": true
   },
   "outputs": [],
   "source": [
    "model_id = \"Qwen/Qwen3-0.6B\"\n",
    "device = \"cuda:0\" if torch.cuda.is_available() else \"cpu\"\n",
    "\n",
    "# Load the model and tokenizer\n",
    "tokenizer_qwen = AutoTokenizer.from_pretrained(model_id)\n",
    "model_qwen = AutoModelForCausalLM.from_pretrained(model_id, torch_dtype=None).to(device)"
   ]
  },
  {
   "cell_type": "markdown",
   "metadata": {},
   "source": [
    "### **Generate Response using Pre-trained `Qwen3-0.6B`**\n",
    "\n",
    "Generate responses from the base model `Qwen3-0.6B` in the validation dataset."
   ]
  },
  {
   "cell_type": "code",
   "execution_count": 100,
   "metadata": {
    "execution": {
     "iopub.execute_input": "2025-05-12T21:15:53.417529Z",
     "iopub.status.busy": "2025-05-12T21:15:53.417230Z",
     "iopub.status.idle": "2025-05-12T21:18:33.623554Z",
     "shell.execute_reply": "2025-05-12T21:18:33.622750Z",
     "shell.execute_reply.started": "2025-05-12T21:15:53.417507Z"
    },
    "trusted": true
   },
   "outputs": [
    {
     "name": "stderr",
     "output_type": "stream",
     "text": [
      "Get response from pre-trained `Qwen3-0.6B` model: 100%|\u001b[33m███████████\u001b[0m| 200/200 [02:40<00:00,  1.25it/s]\u001b[0m"
     ]
    },
    {
     "name": "stdout",
     "output_type": "stream",
     "text": [
      "\n",
      " Data completed in 2.67 minutes.\n"
     ]
    },
    {
     "name": "stderr",
     "output_type": "stream",
     "text": [
      "\n"
     ]
    }
   ],
   "source": [
    "# Make batch prediction or text to number genration \n",
    "base_qwen_preds_list, base_qwen_history = batch_generate(model=model_qwen, \n",
    "                                                  tokenizer=tokenizer_qwen, \n",
    "                                                  data = val_data,\n",
    "                                                  device = device, \n",
    "                                                  color = 'yellow')"
   ]
  },
  {
   "cell_type": "markdown",
   "metadata": {},
   "source": [
    "> Prediction for 200 sample takes 2.82 minutes using pretrained `Qwen3-0.6B`."
   ]
  },
  {
   "cell_type": "markdown",
   "metadata": {
    "id": "K3OCT8N8JWBX"
   },
   "source": [
    "### **Evaluation metrics for Pre-trained `Qwen3-0.6B`**\n",
    "\n",
    "This function is implemented in the `utils.py` utility script."
   ]
  },
  {
   "cell_type": "markdown",
   "metadata": {},
   "source": [
    "**Predictions sample**"
   ]
  },
  {
   "cell_type": "code",
   "execution_count": 104,
   "metadata": {
    "execution": {
     "iopub.execute_input": "2025-05-12T21:19:07.393800Z",
     "iopub.status.busy": "2025-05-12T21:19:07.393223Z",
     "iopub.status.idle": "2025-05-12T21:19:07.397515Z",
     "shell.execute_reply": "2025-05-12T21:19:07.396928Z",
     "shell.execute_reply.started": "2025-05-12T21:19:07.393780Z"
    },
    "trusted": true
   },
   "outputs": [
    {
     "name": "stdout",
     "output_type": "stream",
     "text": [
      "Actual Price [2500000.0, 295000.0, 299900.0, 699000.0, 239000.0, 11000.0, 470000.0, 449000.0, 250000.0, 339000.0]\n",
      "Predicted Prices [30000, 85000, 85000, 85000, 85000, 85000, 85000, 85000, 85000, 85000]\n"
     ]
    }
   ],
   "source": [
    "print(\"Actual Price\", true_labels[:10])\n",
    "print(\"Predicted Prices\", base_qwen_preds_list[:10])"
   ]
  },
  {
   "cell_type": "markdown",
   "metadata": {},
   "source": [
    "**Evaluation Metrics Results for Pre-trained `Qwen3-0.6B`**"
   ]
  },
  {
   "cell_type": "code",
   "execution_count": 133,
   "metadata": {
    "execution": {
     "iopub.execute_input": "2025-05-12T21:26:34.226671Z",
     "iopub.status.busy": "2025-05-12T21:26:34.226480Z",
     "iopub.status.idle": "2025-05-12T21:26:34.234693Z",
     "shell.execute_reply": "2025-05-12T21:26:34.234068Z",
     "shell.execute_reply.started": "2025-05-12T21:26:34.226656Z"
    },
    "id": "v0DpDsevIw4p",
    "trusted": true
   },
   "outputs": [
    {
     "data": {
      "application/json": {
       "MAE": 403870.53,
       "MSE": 429225476997.24,
       "R2": -0.5416020237160029,
       "RMSE": 655153.0180020848,
       "eval_device": "gpu-t4x2",
       "eval_time (min)": 2.82,
       "in_token_limit": "~32K",
       "model_name": "Qwen3-0.6B",
       "n_params": "0.8B (600M)",
       "n_samples": 200,
       "out_token_limit": "~8",
       "response_time (min)": 0.0141,
       "size": "~1.5 GB"
      },
      "text/plain": [
       "<IPython.core.display.JSON object>"
      ]
     },
     "execution_count": 133,
     "metadata": {
      "application/json": {
       "expanded": false,
       "root": "root"
      }
     },
     "output_type": "execute_result"
    }
   ],
   "source": [
    "base_qwen_results = evaluate_model(true_labels, base_qwen_preds_list)\n",
    "\n",
    "base_qwen_results[\"n_samples\"] = len(val_data)\n",
    "base_qwen_results[\"eval_time (min)\"] = 2.82\n",
    "base_qwen_results[\"response_time (min)\"] = 2.82 / len(val_data)\n",
    "base_qwen_results[\"eval_device\"] = \"gpu-t4x2\"\n",
    "base_qwen_results[\"model_name\"] = model_id.split('/')[-1]\n",
    "\n",
    "base_qwen_results[\"in_token_limit\"]= \"~32K\"\n",
    "base_qwen_results[\"out_token_limit\"]=\"~8\"\n",
    "base_qwen_results[\"n_params\"]= \"0.8B (600M)\"\n",
    "base_qwen_results[\"size\"]=\"~1.5 GB\"\n",
    "\n",
    "JSON(base_qwen_results)"
   ]
  },
  {
   "cell_type": "markdown",
   "metadata": {
    "id": "rKJ7qhbwir3n"
   },
   "source": [
    "> Model produce bad result and don't follow the output schema\n",
    "\n",
    "> Model predict the same value each time `85000` or `8500` because it is bais towards the example of the schema."
   ]
  },
  {
   "cell_type": "code",
   "execution_count": 138,
   "metadata": {
    "execution": {
     "iopub.execute_input": "2025-05-12T21:27:27.227035Z",
     "iopub.status.busy": "2025-05-12T21:27:27.226780Z",
     "iopub.status.idle": "2025-05-12T21:27:27.238940Z",
     "shell.execute_reply": "2025-05-12T21:27:27.238321Z",
     "shell.execute_reply.started": "2025-05-12T21:27:27.227017Z"
    },
    "trusted": true
   },
   "outputs": [
    {
     "name": "stdout",
     "output_type": "stream",
     "text": [
      ">>>>>> Base Qwen can't predict 0.0% from the given data <<<<<<\n"
     ]
    },
    {
     "data": {
      "text/html": [
       "<div>\n",
       "<style scoped>\n",
       "    .dataframe tbody tr th:only-of-type {\n",
       "        vertical-align: middle;\n",
       "    }\n",
       "\n",
       "    .dataframe tbody tr th {\n",
       "        vertical-align: top;\n",
       "    }\n",
       "\n",
       "    .dataframe thead th {\n",
       "        text-align: right;\n",
       "    }\n",
       "</style>\n",
       "<table border=\"1\" class=\"dataframe\">\n",
       "  <thead>\n",
       "    <tr style=\"text-align: right;\">\n",
       "      <th></th>\n",
       "      <th>id</th>\n",
       "      <th>input_tokens</th>\n",
       "      <th>output_tokens</th>\n",
       "      <th>total_tokens</th>\n",
       "      <th>y_actual</th>\n",
       "      <th>y_pred</th>\n",
       "    </tr>\n",
       "  </thead>\n",
       "  <tbody>\n",
       "    <tr>\n",
       "      <th>14</th>\n",
       "      <td>14</td>\n",
       "      <td>246</td>\n",
       "      <td>266</td>\n",
       "      <td>512</td>\n",
       "      <td>159900.0</td>\n",
       "      <td>85000</td>\n",
       "    </tr>\n",
       "    <tr>\n",
       "      <th>75</th>\n",
       "      <td>75</td>\n",
       "      <td>227</td>\n",
       "      <td>247</td>\n",
       "      <td>474</td>\n",
       "      <td>159900.0</td>\n",
       "      <td>85000</td>\n",
       "    </tr>\n",
       "    <tr>\n",
       "      <th>35</th>\n",
       "      <td>35</td>\n",
       "      <td>242</td>\n",
       "      <td>262</td>\n",
       "      <td>504</td>\n",
       "      <td>165000.0</td>\n",
       "      <td>85000</td>\n",
       "    </tr>\n",
       "    <tr>\n",
       "      <th>165</th>\n",
       "      <td>165</td>\n",
       "      <td>246</td>\n",
       "      <td>266</td>\n",
       "      <td>512</td>\n",
       "      <td>815000.0</td>\n",
       "      <td>85000</td>\n",
       "    </tr>\n",
       "    <tr>\n",
       "      <th>19</th>\n",
       "      <td>19</td>\n",
       "      <td>246</td>\n",
       "      <td>266</td>\n",
       "      <td>512</td>\n",
       "      <td>2200000.0</td>\n",
       "      <td>85000</td>\n",
       "    </tr>\n",
       "  </tbody>\n",
       "</table>\n",
       "</div>"
      ],
      "text/plain": [
       "      id  input_tokens  output_tokens  total_tokens   y_actual  y_pred\n",
       "14    14           246            266           512   159900.0   85000\n",
       "75    75           227            247           474   159900.0   85000\n",
       "35    35           242            262           504   165000.0   85000\n",
       "165  165           246            266           512   815000.0   85000\n",
       "19    19           246            266           512  2200000.0   85000"
      ]
     },
     "execution_count": 138,
     "metadata": {},
     "output_type": "execute_result"
    }
   ],
   "source": [
    "base_qwen_preds = pd.DataFrame(base_qwen_history )\n",
    "base_qwen_preds['y_actual'] = true_labels\n",
    "base_qwen_preds['y_pred'] = base_qwen_preds_list\n",
    "\n",
    "missed_prec = len(base_qwen_preds[base_qwen_preds['y_pred']==-1]) * 100 /len(val_data)\n",
    "base_qwen_results[\"missing_pred(%)\"] = missed_prec\n",
    "\n",
    "print(f\">>>>>> Base Qwen can't predict {missed_prec}% from the given data <<<<<<\")\n",
    "base_qwen_preds.sample(5)"
   ]
  },
  {
   "cell_type": "markdown",
   "metadata": {},
   "source": [
    "**Save Pre-trained`Qwen3-0.6B` Results**"
   ]
  },
  {
   "cell_type": "code",
   "execution_count": 139,
   "metadata": {
    "execution": {
     "iopub.execute_input": "2025-05-12T21:27:36.322473Z",
     "iopub.status.busy": "2025-05-12T21:27:36.321961Z",
     "iopub.status.idle": "2025-05-12T21:27:36.328246Z",
     "shell.execute_reply": "2025-05-12T21:27:36.327701Z",
     "shell.execute_reply.started": "2025-05-12T21:27:36.322447Z"
    },
    "trusted": true
   },
   "outputs": [],
   "source": [
    "with open(f\"{os.environ['RESULTS']}/base_qwen_results.json\", 'w') as json_file:\n",
    "    json.dump(base_qwen_results, json_file, indent=4)\n",
    "\n",
    "base_qwen_preds.to_csv(f\"{os.environ['RESULTS']}/base_qwen_preds.csv\", index=False)"
   ]
  },
  {
   "cell_type": "markdown",
   "metadata": {},
   "source": [
    "---\n",
    "## Evaluate Responses from Fine-Tuned `Qwen3-0.6B`\n",
    "---"
   ]
  },
  {
   "cell_type": "markdown",
   "metadata": {},
   "source": [
    "### **Helper Function to get responses for base model**\n",
    "\n",
    "This function uses another function from the `fine_tuning_helpers.py` and `utils` utility scripts."
   ]
  },
  {
   "cell_type": "markdown",
   "metadata": {},
   "source": [
    "### **Load our Adaptor `Qwen-LoRA-Estate` from Hugging Face**\n",
    "Load the fine-tuned model from Hugging Face. The model is trained on the same dataset and schema as the base model."
   ]
  },
  {
   "cell_type": "code",
   "execution_count": 109,
   "metadata": {
    "execution": {
     "iopub.execute_input": "2025-05-12T21:19:49.974774Z",
     "iopub.status.busy": "2025-05-12T21:19:49.974506Z",
     "iopub.status.idle": "2025-05-12T21:19:51.059666Z",
     "shell.execute_reply": "2025-05-12T21:19:51.058820Z",
     "shell.execute_reply.started": "2025-05-12T21:19:49.974745Z"
    },
    "trusted": true
   },
   "outputs": [],
   "source": [
    "from peft import PeftModel\n",
    "\n",
    "adaptor_id = \"heba1998/Qwen-LoRA-Estate\"\n",
    "\n",
    "# Load the LoRA adapter\n",
    "peft_model =  PeftModel.from_pretrained(model_qwen, adaptor_id)\n",
    "\n",
    "# Attach the LoRA adapter to the model\n",
    "qwen_lora_estate = peft_model.merge_and_unload()"
   ]
  },
  {
   "cell_type": "markdown",
   "metadata": {},
   "source": [
    "### **Generate Response using Fine-Tuned `Qwen3-0.6B`.**\n",
    "\n",
    "Generate responses from the Fine-Tuned `Qwen3-0.6B` in the validation dataset."
   ]
  },
  {
   "cell_type": "code",
   "execution_count": 32,
   "metadata": {
    "execution": {
     "iopub.execute_input": "2025-05-12T20:49:43.253212Z",
     "iopub.status.busy": "2025-05-12T20:49:43.252542Z",
     "iopub.status.idle": "2025-05-12T20:52:23.249658Z",
     "shell.execute_reply": "2025-05-12T20:52:23.249045Z",
     "shell.execute_reply.started": "2025-05-12T20:49:43.253188Z"
    },
    "trusted": true
   },
   "outputs": [
    {
     "name": "stderr",
     "output_type": "stream",
     "text": [
      "Get response from pre-trained `Qwen3-0.6B` model: 100%|\u001b[34m███████████\u001b[0m| 200/200 [02:39<00:00,  1.25it/s]\u001b[0m"
     ]
    },
    {
     "name": "stdout",
     "output_type": "stream",
     "text": [
      "\n",
      " Data completed in 2.67 minutes.\n"
     ]
    },
    {
     "name": "stderr",
     "output_type": "stream",
     "text": [
      "\n"
     ]
    }
   ],
   "source": [
    "# Make batch prediction or text to number genration\n",
    "qwen_lora_preds_list, qwen_lora_history = batch_generate(model=qwen_lora_estate,\n",
    "                                                            tokenizer=tokenizer_qwen,\n",
    "                                                            data=val_data,\n",
    "                                                            device=device,\n",
    "                                                            color = 'blue')"
   ]
  },
  {
   "cell_type": "markdown",
   "metadata": {},
   "source": [
    "> Prediction for 200 sample takes 3.01 minutes using our fine-tined lora qwen model `Qwen-lora-estate`."
   ]
  },
  {
   "cell_type": "markdown",
   "metadata": {},
   "source": [
    "### **Evaluation metrics for Fine-Tuned `Qwen3-0.6B`**\n",
    "\n",
    "This function is implemented in the `utils.py` utility script."
   ]
  },
  {
   "cell_type": "code",
   "execution_count": 113,
   "metadata": {
    "execution": {
     "iopub.execute_input": "2025-05-12T21:20:48.404225Z",
     "iopub.status.busy": "2025-05-12T21:20:48.403576Z",
     "iopub.status.idle": "2025-05-12T21:20:48.408142Z",
     "shell.execute_reply": "2025-05-12T21:20:48.407351Z",
     "shell.execute_reply.started": "2025-05-12T21:20:48.404203Z"
    },
    "trusted": true
   },
   "outputs": [
    {
     "name": "stdout",
     "output_type": "stream",
     "text": [
      "Actual Price [2500000.0, 295000.0, 299900.0, 699000.0, 239000.0, 11000.0, 470000.0, 449000.0, 250000.0, 339000.0]\n",
      "Predicted Prices [125000, 269900, 289900, 799000, 225000, 16000, 445000, 399900, 199000, 279900]\n"
     ]
    }
   ],
   "source": [
    "print(\"Actual Price\", true_labels[:10])\n",
    "print(\"Predicted Prices\", qwen_lora_preds_list[:10])"
   ]
  },
  {
   "cell_type": "markdown",
   "metadata": {},
   "source": [
    "**Evaluation Metrics and Predictions for our `Qwen-lora-estate` Model**"
   ]
  },
  {
   "cell_type": "code",
   "execution_count": 115,
   "metadata": {
    "execution": {
     "iopub.execute_input": "2025-05-12T21:22:28.861177Z",
     "iopub.status.busy": "2025-05-12T21:22:28.860607Z",
     "iopub.status.idle": "2025-05-12T21:22:28.868916Z",
     "shell.execute_reply": "2025-05-12T21:22:28.868328Z",
     "shell.execute_reply.started": "2025-05-12T21:22:28.861155Z"
    },
    "trusted": true
   },
   "outputs": [
    {
     "data": {
      "application/json": {
       "MAE": 198903.515,
       "MSE": 165915637466.885,
       "R2": 0.40409901976362583,
       "RMSE": 407327.43274530995,
       "eval_device": "gpu-t4x2",
       "eval_time (min)": 2.82,
       "in_token_limit": "~32K",
       "model_name": "Qwen-LoRA-Estate",
       "n_params": "0.8B (600M)",
       "n_samples": 200,
       "out_token_limit": "~8",
       "response_time (min)": 0.0141,
       "size": "~1.5 GB + 160M"
      },
      "text/plain": [
       "<IPython.core.display.JSON object>"
      ]
     },
     "execution_count": 115,
     "metadata": {
      "application/json": {
       "expanded": false,
       "root": "root"
      }
     },
     "output_type": "execute_result"
    }
   ],
   "source": [
    "qwen_lora_results = evaluate_model(true_labels, qwen_lora_preds_list)\n",
    "\n",
    "qwen_lora_results[\"n_samples\"] = len(val_data)\n",
    "qwen_lora_results[\"eval_time (min)\"] = 2.82\n",
    "qwen_lora_results[\"response_time (min)\"] = 2.82 / len(val_data)\n",
    "qwen_lora_results[\"eval_device\"] = \"gpu-t4x2\"\n",
    "qwen_lora_results[\"model_name\"] = adaptor_id.split('/')[-1]\n",
    "\n",
    "qwen_lora_results[\"in_token_limit\"]= \"~32K\"\n",
    "qwen_lora_results[\"out_token_limit\"]=\"~8\"\n",
    "qwen_lora_results[\"n_params\"]= \"0.8B (600M)\"\n",
    "qwen_lora_results[\"size\"]=\"~1.5 GB + 160M\"\n",
    "\n",
    "JSON(qwen_lora_results)"
   ]
  },
  {
   "cell_type": "code",
   "execution_count": 118,
   "metadata": {
    "execution": {
     "iopub.execute_input": "2025-05-12T21:22:46.197938Z",
     "iopub.status.busy": "2025-05-12T21:22:46.197684Z",
     "iopub.status.idle": "2025-05-12T21:22:46.209668Z",
     "shell.execute_reply": "2025-05-12T21:22:46.208957Z",
     "shell.execute_reply.started": "2025-05-12T21:22:46.197921Z"
    },
    "trusted": true
   },
   "outputs": [
    {
     "name": "stdout",
     "output_type": "stream",
     "text": [
      ">>>>>> Base Qwen can't predict 0.0% from the given data <<<<<<\n"
     ]
    },
    {
     "data": {
      "text/html": [
       "<div>\n",
       "<style scoped>\n",
       "    .dataframe tbody tr th:only-of-type {\n",
       "        vertical-align: middle;\n",
       "    }\n",
       "\n",
       "    .dataframe tbody tr th {\n",
       "        vertical-align: top;\n",
       "    }\n",
       "\n",
       "    .dataframe thead th {\n",
       "        text-align: right;\n",
       "    }\n",
       "</style>\n",
       "<table border=\"1\" class=\"dataframe\">\n",
       "  <thead>\n",
       "    <tr style=\"text-align: right;\">\n",
       "      <th></th>\n",
       "      <th>id</th>\n",
       "      <th>input_tokens</th>\n",
       "      <th>output_tokens</th>\n",
       "      <th>total_tokens</th>\n",
       "      <th>y_actual</th>\n",
       "      <th>y_pred</th>\n",
       "    </tr>\n",
       "  </thead>\n",
       "  <tbody>\n",
       "    <tr>\n",
       "      <th>0</th>\n",
       "      <td>0</td>\n",
       "      <td>244</td>\n",
       "      <td>264</td>\n",
       "      <td>508</td>\n",
       "      <td>2500000.0</td>\n",
       "      <td>125000</td>\n",
       "    </tr>\n",
       "    <tr>\n",
       "      <th>1</th>\n",
       "      <td>1</td>\n",
       "      <td>246</td>\n",
       "      <td>266</td>\n",
       "      <td>512</td>\n",
       "      <td>295000.0</td>\n",
       "      <td>269900</td>\n",
       "    </tr>\n",
       "    <tr>\n",
       "      <th>2</th>\n",
       "      <td>2</td>\n",
       "      <td>245</td>\n",
       "      <td>265</td>\n",
       "      <td>510</td>\n",
       "      <td>299900.0</td>\n",
       "      <td>289900</td>\n",
       "    </tr>\n",
       "    <tr>\n",
       "      <th>3</th>\n",
       "      <td>3</td>\n",
       "      <td>246</td>\n",
       "      <td>266</td>\n",
       "      <td>512</td>\n",
       "      <td>699000.0</td>\n",
       "      <td>799000</td>\n",
       "    </tr>\n",
       "    <tr>\n",
       "      <th>4</th>\n",
       "      <td>4</td>\n",
       "      <td>245</td>\n",
       "      <td>265</td>\n",
       "      <td>510</td>\n",
       "      <td>239000.0</td>\n",
       "      <td>225000</td>\n",
       "    </tr>\n",
       "  </tbody>\n",
       "</table>\n",
       "</div>"
      ],
      "text/plain": [
       "   id  input_tokens  output_tokens  total_tokens   y_actual  y_pred\n",
       "0   0           244            264           508  2500000.0  125000\n",
       "1   1           246            266           512   295000.0  269900\n",
       "2   2           245            265           510   299900.0  289900\n",
       "3   3           246            266           512   699000.0  799000\n",
       "4   4           245            265           510   239000.0  225000"
      ]
     },
     "execution_count": 118,
     "metadata": {},
     "output_type": "execute_result"
    }
   ],
   "source": [
    "qwen_lora_preds = pd.DataFrame(qwen_lora_history)\n",
    "qwen_lora_preds['y_actual'] = true_labels\n",
    "qwen_lora_preds['y_pred'] = qwen_lora_preds_list\n",
    "\n",
    "missed_prec = len(qwen_lora_preds[qwen_lora_preds['y_pred']==-1]) * 100 /len(val_data)\n",
    "qwen_lora_results[\"missing_pred(%)\"] = missed_prec\n",
    "\n",
    "print(f\">>>>>> Base Qwen can't predict {missed_prec}% from the given data <<<<<<\")\n",
    "\n",
    "qwen_lora_preds.head(5)"
   ]
  },
  {
   "cell_type": "markdown",
   "metadata": {},
   "source": [
    "**Save Results for our `Qwen-lora-estate` Model**"
   ]
  },
  {
   "cell_type": "code",
   "execution_count": 119,
   "metadata": {
    "execution": {
     "iopub.execute_input": "2025-05-12T21:22:53.632146Z",
     "iopub.status.busy": "2025-05-12T21:22:53.631444Z",
     "iopub.status.idle": "2025-05-12T21:22:53.637533Z",
     "shell.execute_reply": "2025-05-12T21:22:53.636995Z",
     "shell.execute_reply.started": "2025-05-12T21:22:53.632123Z"
    },
    "trusted": true
   },
   "outputs": [],
   "source": [
    "with open(f\"{os.environ['RESULTS']}/qwen_lora_results.json\", 'w') as json_file:\n",
    "    json.dump(qwen_lora_results, json_file, indent=4)\n",
    "\n",
    "qwen_lora_preds.to_csv(f\"{os.environ['RESULTS']}/qwen_lora_preds.csv\", index=False)"
   ]
  },
  {
   "cell_type": "markdown",
   "metadata": {},
   "source": [
    "---\n",
    "## Conclusion and Comparison\n",
    "---\n",
    "\n",
    "In this section, we will compare the performance of the models (`gemini-2.0-flash-exp`, `Qwen3-0.6B`, and `Qwen3-lora-estate-0.6B`) based on key evaluation metrics such as Mean Squared Error (MSE), Root Mean Squared Error (RMSE), Mean Absolute Error (MAE), R² score, and the percentage of missing predictions. The comparison will highlight the improvements achieved by the fine-tuned model (`Qwen3-lora-estate-0.6B`) over the base models. Additionally, we will analyze the **evaluation time**, **response time**, and **device used for inference** to assess the computational efficiency of each model.\n"
   ]
  },
  {
   "cell_type": "code",
   "execution_count": 129,
   "metadata": {
    "execution": {
     "iopub.execute_input": "2025-05-12T21:25:20.342503Z",
     "iopub.status.busy": "2025-05-12T21:25:20.341825Z",
     "iopub.status.idle": "2025-05-12T21:25:20.347948Z",
     "shell.execute_reply": "2025-05-12T21:25:20.347364Z",
     "shell.execute_reply.started": "2025-05-12T21:25:20.342481Z"
    },
    "trusted": true
   },
   "outputs": [
    {
     "data": {
      "text/plain": [
       "['qwen_lora_results.json', 'gemini_results.json', 'base_qwen_results.json']"
      ]
     },
     "execution_count": 129,
     "metadata": {},
     "output_type": "execute_result"
    }
   ],
   "source": [
    "json_files = []\n",
    "\n",
    "for root, dirs, files in os.walk('results'):\n",
    "    for file in files:\n",
    "        if file.endswith('_results.json'):\n",
    "            json_files.append(file)\n",
    "\n",
    "json_files"
   ]
  },
  {
   "cell_type": "markdown",
   "metadata": {},
   "source": [
    "**Save All models results**"
   ]
  },
  {
   "cell_type": "code",
   "execution_count": 140,
   "metadata": {
    "execution": {
     "iopub.execute_input": "2025-05-12T21:27:41.639429Z",
     "iopub.status.busy": "2025-05-12T21:27:41.638899Z",
     "iopub.status.idle": "2025-05-12T21:27:41.655072Z",
     "shell.execute_reply": "2025-05-12T21:27:41.654501Z",
     "shell.execute_reply.started": "2025-05-12T21:27:41.639405Z"
    },
    "trusted": true
   },
   "outputs": [
    {
     "data": {
      "text/html": [
       "<div>\n",
       "<style scoped>\n",
       "    .dataframe tbody tr th:only-of-type {\n",
       "        vertical-align: middle;\n",
       "    }\n",
       "\n",
       "    .dataframe tbody tr th {\n",
       "        vertical-align: top;\n",
       "    }\n",
       "\n",
       "    .dataframe thead th {\n",
       "        text-align: right;\n",
       "    }\n",
       "</style>\n",
       "<table border=\"1\" class=\"dataframe\">\n",
       "  <thead>\n",
       "    <tr style=\"text-align: right;\">\n",
       "      <th></th>\n",
       "      <th>MSE</th>\n",
       "      <th>RMSE</th>\n",
       "      <th>MAE</th>\n",
       "      <th>R2</th>\n",
       "      <th>n_samples</th>\n",
       "      <th>eval_time (min)</th>\n",
       "      <th>response_time (min)</th>\n",
       "      <th>eval_device</th>\n",
       "      <th>in_token_limit</th>\n",
       "      <th>out_token_limit</th>\n",
       "      <th>n_params</th>\n",
       "      <th>size</th>\n",
       "      <th>missing_pred(%)</th>\n",
       "    </tr>\n",
       "    <tr>\n",
       "      <th>model_name</th>\n",
       "      <th></th>\n",
       "      <th></th>\n",
       "      <th></th>\n",
       "      <th></th>\n",
       "      <th></th>\n",
       "      <th></th>\n",
       "      <th></th>\n",
       "      <th></th>\n",
       "      <th></th>\n",
       "      <th></th>\n",
       "      <th></th>\n",
       "      <th></th>\n",
       "      <th></th>\n",
       "    </tr>\n",
       "  </thead>\n",
       "  <tbody>\n",
       "    <tr>\n",
       "      <th>Qwen-LoRA-Estate</th>\n",
       "      <td>1.659156e+11</td>\n",
       "      <td>407327.432745</td>\n",
       "      <td>198903.515</td>\n",
       "      <td>0.404099</td>\n",
       "      <td>200</td>\n",
       "      <td>2.82</td>\n",
       "      <td>0.01410</td>\n",
       "      <td>gpu-t4x2</td>\n",
       "      <td>~32K</td>\n",
       "      <td>~8</td>\n",
       "      <td>0.8B (600M)</td>\n",
       "      <td>~1.5 GB + 160M</td>\n",
       "      <td>0.0</td>\n",
       "    </tr>\n",
       "    <tr>\n",
       "      <th>gemini-2.0-flash</th>\n",
       "      <td>4.047330e+11</td>\n",
       "      <td>636186.277290</td>\n",
       "      <td>390199.940</td>\n",
       "      <td>-0.453635</td>\n",
       "      <td>200</td>\n",
       "      <td>2.45</td>\n",
       "      <td>0.01225</td>\n",
       "      <td>remote-api</td>\n",
       "      <td>~1M</td>\n",
       "      <td>~8K</td>\n",
       "      <td>~8B</td>\n",
       "      <td>-</td>\n",
       "      <td>70.0</td>\n",
       "    </tr>\n",
       "    <tr>\n",
       "      <th>Qwen3-0.6B</th>\n",
       "      <td>4.292255e+11</td>\n",
       "      <td>655153.018002</td>\n",
       "      <td>403870.530</td>\n",
       "      <td>-0.541602</td>\n",
       "      <td>200</td>\n",
       "      <td>2.82</td>\n",
       "      <td>0.01410</td>\n",
       "      <td>gpu-t4x2</td>\n",
       "      <td>~32K</td>\n",
       "      <td>~8</td>\n",
       "      <td>0.8B (600M)</td>\n",
       "      <td>~1.5 GB</td>\n",
       "      <td>0.0</td>\n",
       "    </tr>\n",
       "  </tbody>\n",
       "</table>\n",
       "</div>"
      ],
      "text/plain": [
       "                           MSE           RMSE         MAE        R2  \\\n",
       "model_name                                                            \n",
       "Qwen-LoRA-Estate  1.659156e+11  407327.432745  198903.515  0.404099   \n",
       "gemini-2.0-flash  4.047330e+11  636186.277290  390199.940 -0.453635   \n",
       "Qwen3-0.6B        4.292255e+11  655153.018002  403870.530 -0.541602   \n",
       "\n",
       "                  n_samples  eval_time (min)  response_time (min) eval_device  \\\n",
       "model_name                                                                      \n",
       "Qwen-LoRA-Estate        200             2.82              0.01410    gpu-t4x2   \n",
       "gemini-2.0-flash        200             2.45              0.01225  remote-api   \n",
       "Qwen3-0.6B              200             2.82              0.01410    gpu-t4x2   \n",
       "\n",
       "                 in_token_limit out_token_limit     n_params            size  \\\n",
       "model_name                                                                     \n",
       "Qwen-LoRA-Estate           ~32K              ~8  0.8B (600M)  ~1.5 GB + 160M   \n",
       "gemini-2.0-flash            ~1M             ~8K          ~8B               -   \n",
       "Qwen3-0.6B                 ~32K              ~8  0.8B (600M)         ~1.5 GB   \n",
       "\n",
       "                  missing_pred(%)  \n",
       "model_name                         \n",
       "Qwen-LoRA-Estate              0.0  \n",
       "gemini-2.0-flash             70.0  \n",
       "Qwen3-0.6B                    0.0  "
      ]
     },
     "execution_count": 140,
     "metadata": {},
     "output_type": "execute_result"
    }
   ],
   "source": [
    "results = []\n",
    "\n",
    "for filepath in json_files:\n",
    "    with open(f\"{os.environ['RESULTS']}/{filepath}\", 'r') as f:\n",
    "        results.append(json.load(f))\n",
    "\n",
    "df_results = pd.DataFrame(results)\n",
    "df_results.set_index('model_name', inplace=True)\n",
    "\n",
    "df_results.to_csv(f\"{os.environ['RESULTS']}/results_comparisons.csv\", index=False)\n",
    "df_results"
   ]
  },
  {
   "cell_type": "markdown",
   "metadata": {},
   "source": [
    "**Improvements  Calculattion**"
   ]
  },
  {
   "cell_type": "code",
   "execution_count": 215,
   "metadata": {
    "execution": {
     "iopub.execute_input": "2025-05-12T22:04:02.728747Z",
     "iopub.status.busy": "2025-05-12T22:04:02.728165Z",
     "iopub.status.idle": "2025-05-12T22:04:02.743336Z",
     "shell.execute_reply": "2025-05-12T22:04:02.742706Z",
     "shell.execute_reply.started": "2025-05-12T22:04:02.728724Z"
    },
    "trusted": true
   },
   "outputs": [
    {
     "data": {
      "text/html": [
       "<div>\n",
       "<style scoped>\n",
       "    .dataframe tbody tr th:only-of-type {\n",
       "        vertical-align: middle;\n",
       "    }\n",
       "\n",
       "    .dataframe tbody tr th {\n",
       "        vertical-align: top;\n",
       "    }\n",
       "\n",
       "    .dataframe thead th {\n",
       "        text-align: right;\n",
       "    }\n",
       "</style>\n",
       "<table border=\"1\" class=\"dataframe\">\n",
       "  <thead>\n",
       "    <tr style=\"text-align: right;\">\n",
       "      <th></th>\n",
       "      <th>MSE</th>\n",
       "      <th>RMSE</th>\n",
       "      <th>MAE</th>\n",
       "      <th>R2</th>\n",
       "      <th>missing_pred(%)</th>\n",
       "    </tr>\n",
       "    <tr>\n",
       "      <th>model_name</th>\n",
       "      <th></th>\n",
       "      <th></th>\n",
       "      <th></th>\n",
       "      <th></th>\n",
       "      <th></th>\n",
       "    </tr>\n",
       "  </thead>\n",
       "  <tbody>\n",
       "    <tr>\n",
       "      <th>gemini-2.0-flash</th>\n",
       "      <td>143.9</td>\n",
       "      <td>56.2</td>\n",
       "      <td>96.2</td>\n",
       "      <td>212.3</td>\n",
       "      <td>70.0</td>\n",
       "    </tr>\n",
       "    <tr>\n",
       "      <th>Qwen3-0.6B</th>\n",
       "      <td>158.7</td>\n",
       "      <td>60.8</td>\n",
       "      <td>103.0</td>\n",
       "      <td>234.0</td>\n",
       "      <td>0.0</td>\n",
       "    </tr>\n",
       "  </tbody>\n",
       "</table>\n",
       "</div>"
      ],
      "text/plain": [
       "                    MSE  RMSE    MAE     R2  missing_pred(%)\n",
       "model_name                                                  \n",
       "gemini-2.0-flash  143.9  56.2   96.2  212.3             70.0\n",
       "Qwen3-0.6B        158.7  60.8  103.0  234.0              0.0"
      ]
     },
     "execution_count": 215,
     "metadata": {},
     "output_type": "execute_result"
    }
   ],
   "source": [
    "improvement = pd.DataFrame()\n",
    "metrics = ['MSE', 'RMSE', 'MAE', 'R2']\n",
    "\n",
    "qwen_lora = df_results.loc['Qwen-LoRA-Estate']\n",
    "\n",
    "for metric in metrics:\n",
    "    improvement[metric] = abs(qwen_lora[metric] - df_results[metric]) / qwen_lora[metric] * 100\n",
    "\n",
    "improvement['missing_pred(%)'] = abs(qwen_lora['missing_pred(%)'] - df_results['missing_pred(%)'])\n",
    "\n",
    "improvement = improvement.round(1)\n",
    "improvement = improvement.drop('Qwen-LoRA-Estate')\n",
    "improvement"
   ]
  },
  {
   "cell_type": "markdown",
   "metadata": {},
   "source": [
    "**Visual Improvement Report**"
   ]
  },
  {
   "cell_type": "code",
   "execution_count": 239,
   "metadata": {
    "execution": {
     "iopub.execute_input": "2025-05-12T22:15:44.140634Z",
     "iopub.status.busy": "2025-05-12T22:15:44.140366Z",
     "iopub.status.idle": "2025-05-12T22:15:45.101015Z",
     "shell.execute_reply": "2025-05-12T22:15:45.100241Z",
     "shell.execute_reply.started": "2025-05-12T22:15:44.140615Z"
    },
    "trusted": true
   },
   "outputs": [
    {
     "name": "stderr",
     "output_type": "stream",
     "text": [
      "/tmp/ipykernel_30/1702958674.py:1: MatplotlibDeprecationWarning: The seaborn styles shipped by Matplotlib are deprecated since 3.6, as they no longer correspond to the styles shipped by seaborn. However, they will remain available as 'seaborn-v0_8-<style>'. Alternatively, directly use the seaborn API instead.\n",
      "  plt.style.use('seaborn-whitegrid')\n"
     ]
    },
    {
     "data": {
      "image/png": "[encoded data removed]",
      "text/plain": [
       "<Figure size 1500x500 with 3 Axes>"
      ]
     },
     "metadata": {},
     "output_type": "display_data"
    }
   ],
   "source": [
    "plt.style.use('seaborn-whitegrid')\n",
    "qwen_palette = ['#6457ff', '#e95d53']# ['#1f77b4', '#ff7f0e'] \n",
    "bar_width = 0.35\n",
    "fig, (ax1, ax2, ax3) = plt.subplots(1, 3, figsize=(15, 5))\n",
    "\n",
    "# Error Metrics Plot\n",
    "metrics_err = improvement.columns[:-1]\n",
    "x = np.arange(len(metrics_err))\n",
    "for i, model in enumerate(improvement.index):\n",
    "    ax1.bar(x + i*bar_width, improvement.loc[model, metrics_err], \n",
    "            width=bar_width, color=qwen_palette[i], label=model)\n",
    "\n",
    "ax1.set_title('Error Metrics\\n(Lower is Better)', fontsize=12, pad=10)\n",
    "ax1.set_xticks(x + bar_width/2)\n",
    "ax1.set_xticklabels(metrics_err)\n",
    "ax1.set_ylabel('Improvement %')\n",
    "ax1.axhline(0, color='black', linewidth=0.8)\n",
    "\n",
    "# R² Score Plot \n",
    "x = np.arange(1)\n",
    "for i, model in enumerate(improvement.index):\n",
    "    ax2.bar(x + i*bar_width, improvement.loc[model, 'R2'], \n",
    "            width=bar_width, color=qwen_palette[i], label=model)\n",
    "\n",
    "ax2.set_title('R² Score Improvement\\n(Higher is Better)', fontsize=12, pad=10)\n",
    "ax2.set_xticks(x + bar_width/2)\n",
    "ax2.set_xticklabels(['R² Score'])\n",
    "ax2.set_ylabel('Improvement %')\n",
    "ax2.axhline(0, color='black', linewidth=0.8)\n",
    "\n",
    "# Missing Predictions Plot (Right)\n",
    "x = np.arange(1)  # Single metric\n",
    "for i, model in enumerate(improvement.index):\n",
    "    ax3.bar(x + i*bar_width, improvement.loc[model, 'missing_pred(%)'], \n",
    "            width=bar_width, color=qwen_palette[i], label=model)\n",
    "\n",
    "ax3.set_title('Missing Predictions Reduction\\n(Higher is Better)', fontsize=12, pad=10)\n",
    "ax3.set_xticks(x + bar_width/2)\n",
    "ax3.set_xticklabels(['Missing Pred'])\n",
    "ax3.set_ylabel('Reduction (Absolute)')\n",
    "ax3.axhline(0, color='black', linewidth=0.8)\n",
    "\n",
    "# Add single legend\n",
    "handles, labels = ax1.get_legend_handles_labels()\n",
    "fig.legend(handles, labels, loc='upper center', ncol=2, bbox_to_anchor=(0.5, 1.1))\n",
    "plt.savefig(f\"{os.environ['RESULTS']}/qwen_3panel_comparison.png\", dpi=300, bbox_inches='tight')\n",
    "plt.tight_layout()\n",
    "plt.show()"
   ]
  },
  {
   "cell_type": "code",
   "execution_count": 240,
   "metadata": {
    "execution": {
     "iopub.execute_input": "2025-05-12T22:15:48.309423Z",
     "iopub.status.busy": "2025-05-12T22:15:48.308691Z",
     "iopub.status.idle": "2025-05-12T22:15:48.529126Z",
     "shell.execute_reply": "2025-05-12T22:15:48.528370Z",
     "shell.execute_reply.started": "2025-05-12T22:15:48.309396Z"
    },
    "trusted": true
   },
   "outputs": [
    {
     "name": "stdout",
     "output_type": "stream",
     "text": [
      "updating: kaggle/working/results/gemini_metrics.json (deflated 27%)\n",
      "updating: kaggle/working/results/gemini_results.csv (deflated 78%)\n",
      "updating: kaggle/working/results/pretrained_qwen_metrics.json (deflated 37%)\n",
      "updating: kaggle/working/results/pretrained_qwen_results.csv (deflated 78%)\n",
      "updating: kaggle/working/results/results_metadata.json (deflated 25%)\n",
      "updating: kaggle/working/results/qwen_lora_estate_metrics.json (deflated 36%)\n",
      "updating: kaggle/working/results/qwen_lora_estate_results.csv (deflated 72%)\n",
      "updating: kaggle/working/results/base_qwen_preds.csv (deflated 78%)\n",
      "updating: kaggle/working/results/base_qwen_results.json (deflated 39%)\n",
      "updating: kaggle/working/results/gemini_preds.csv (deflated 78%)\n",
      "updating: kaggle/working/results/gemini_results.json (deflated 40%)\n",
      "updating: kaggle/working/results/qwen_lora_preds.csv (deflated 72%)\n",
      "updating: kaggle/working/results/qwen_lora_results.json (deflated 39%)\n",
      "updating: kaggle/working/results/results_comparisons.csv (deflated 38%)\n",
      "updating: kaggle/working/results/qwen_3panel_comparison.png (deflated 26%)\n"
     ]
    },
    {
     "name": "stderr",
     "output_type": "stream",
     "text": [
      "huggingface/tokenizers: The current process just got forked, after parallelism has already been used. Disabling parallelism to avoid deadlocks...\n",
      "To disable this warning, you can either:\n",
      "\t- Avoid using `tokenizers` before the fork if possible\n",
      "\t- Explicitly set the environment variable TOKENIZERS_PARALLELISM=(true | false)\n"
     ]
    }
   ],
   "source": [
    "# to be downolad for further comparasions\n",
    "!zip /kaggle/working/results_200.zip /kaggle/working/results/*"
   ]
  },
  {
   "cell_type": "code",
   "execution_count": 241,
   "metadata": {
    "execution": {
     "iopub.execute_input": "2025-05-12T22:15:50.087376Z",
     "iopub.status.busy": "2025-05-12T22:15:50.086650Z",
     "iopub.status.idle": "2025-05-12T22:15:50.092962Z",
     "shell.execute_reply": "2025-05-12T22:15:50.092180Z",
     "shell.execute_reply.started": "2025-05-12T22:15:50.087346Z"
    },
    "trusted": true
   },
   "outputs": [
    {
     "data": {
      "text/html": [
       "<a href='results_200.zip' target='_blank'>results_200.zip</a><br>"
      ],
      "text/plain": [
       "/kaggle/working/results_200.zip"
      ]
     },
     "execution_count": 241,
     "metadata": {},
     "output_type": "execute_result"
    }
   ],
   "source": [
    "from IPython.display import FileLink\n",
    "\n",
    "# Create download link\n",
    "FileLink('results_200.zip')"
   ]
  }
 ],
 "metadata": {
  "colab": {
   "collapsed_sections": [
    "x4v0D3WgVvB8",
    "_l-cfEqOVzuF",
    "zFlH_4lZ1i6j",
    "EHk9VZ_lEzNG"
   ],
   "provenance": []
  },
  "kaggle": {
   "accelerator": "nvidiaTeslaT4",
   "dataSources": [
    {
     "databundleVersionId": 12197011,
     "datasetId": 7348439,
     "sourceId": 11718898,
     "sourceType": "datasetVersion"
    },
    {
     "databundleVersionId": 8092475,
     "datasetId": 3202774,
     "sourceId": 7981839,
     "sourceType": "datasetVersion"
    },
    {
     "sourceId": 238764139,
     "sourceType": "kernelVersion"
    },
    {
     "sourceId": 239326280,
     "sourceType": "kernelVersion"
    }
   ],
   "dockerImageVersionId": 31012,
   "isGpuEnabled": true,
   "isInternetEnabled": true,
   "language": "python",
   "sourceType": "notebook"
  },
  "kernelspec": {
   "display_name": "Python 3",
   "language": "python",
   "name": "python3"
  },
  "language_info": {
   "codemirror_mode": {
    "name": "ipython",
    "version": 3
   },
   "file_extension": ".py",
   "mimetype": "text/x-python",
   "name": "python",
   "nbconvert_exporter": "python",
   "pygments_lexer": "ipython3",
   "version": "3.11.11"
  },
  "widgets": {
   "application/vnd.jupyter.widget-state+json": {
    "0b16163efaa3467aac8c6c3a381acc04": {
     "model_module": "@jupyter-widgets/controls",
     "model_module_version": "1.5.0",
     "model_name": "LabelModel",
     "state": {
      "_dom_classes": [],
      "_model_module": "@jupyter-widgets/controls",
      "_model_module_version": "1.5.0",
      "_model_name": "LabelModel",
      "_view_count": null,
      "_view_module": "@jupyter-widgets/controls",
      "_view_module_version": "1.5.0",
      "_view_name": "LabelView",
      "description": "",
      "description_tooltip": null,
      "layout": "IPY_MODEL_33466bd6149a4381b88c4fd4f96d441f",
      "placeholder": "​",
      "style": "IPY_MODEL_88bd985ff0b241d29edf9d93f83fb6ce",
      "value": "Kaggle credentials successfully validated."
     }
    },
    "0fc862d1f32d4222a9eab0d3d3363952": {
     "model_module": "@jupyter-widgets/base",
     "model_module_version": "1.2.0",
     "model_name": "LayoutModel",
     "state": {
      "_model_module": "@jupyter-widgets/base",
      "_model_module_version": "1.2.0",
      "_model_name": "LayoutModel",
      "_view_count": null,
      "_view_module": "@jupyter-widgets/base",
      "_view_module_version": "1.2.0",
      "_view_name": "LayoutView",
      "align_content": null,
      "align_items": null,
      "align_self": null,
      "border": null,
      "bottom": null,
      "display": null,
      "flex": null,
      "flex_flow": null,
      "grid_area": null,
      "grid_auto_columns": null,
      "grid_auto_flow": null,
      "grid_auto_rows": null,
      "grid_column": null,
      "grid_gap": null,
      "grid_row": null,
      "grid_template_areas": null,
      "grid_template_columns": null,
      "grid_template_rows": null,
      "height": null,
      "justify_content": null,
      "justify_items": null,
      "left": null,
      "margin": null,
      "max_height": null,
      "max_width": null,
      "min_height": null,
      "min_width": null,
      "object_fit": null,
      "object_position": null,
      "order": null,
      "overflow": null,
      "overflow_x": null,
      "overflow_y": null,
      "padding": null,
      "right": null,
      "top": null,
      "visibility": null,
      "width": null
     }
    },
    "1c3f73d6e7d64e568520935df91bc862": {
     "model_module": "@jupyter-widgets/controls",
     "model_module_version": "1.5.0",
     "model_name": "DescriptionStyleModel",
     "state": {
      "_model_module": "@jupyter-widgets/controls",
      "_model_module_version": "1.5.0",
      "_model_name": "DescriptionStyleModel",
      "_view_count": null,
      "_view_module": "@jupyter-widgets/base",
      "_view_module_version": "1.2.0",
      "_view_name": "StyleView",
      "description_width": ""
     }
    },
    "290db3966a504b47bf6e23814a0b59c7": {
     "model_module": "@jupyter-widgets/base",
     "model_module_version": "1.2.0",
     "model_name": "LayoutModel",
     "state": {
      "_model_module": "@jupyter-widgets/base",
      "_model_module_version": "1.2.0",
      "_model_name": "LayoutModel",
      "_view_count": null,
      "_view_module": "@jupyter-widgets/base",
      "_view_module_version": "1.2.0",
      "_view_name": "LayoutView",
      "align_content": null,
      "align_items": null,
      "align_self": null,
      "border": null,
      "bottom": null,
      "display": null,
      "flex": null,
      "flex_flow": null,
      "grid_area": null,
      "grid_auto_columns": null,
      "grid_auto_flow": null,
      "grid_auto_rows": null,
      "grid_column": null,
      "grid_gap": null,
      "grid_row": null,
      "grid_template_areas": null,
      "grid_template_columns": null,
      "grid_template_rows": null,
      "height": null,
      "justify_content": null,
      "justify_items": null,
      "left": null,
      "margin": null,
      "max_height": null,
      "max_width": null,
      "min_height": null,
      "min_width": null,
      "object_fit": null,
      "object_position": null,
      "order": null,
      "overflow": null,
      "overflow_x": null,
      "overflow_y": null,
      "padding": null,
      "right": null,
      "top": null,
      "visibility": null,
      "width": null
     }
    },
    "33466bd6149a4381b88c4fd4f96d441f": {
     "model_module": "@jupyter-widgets/base",
     "model_module_version": "1.2.0",
     "model_name": "LayoutModel",
     "state": {
      "_model_module": "@jupyter-widgets/base",
      "_model_module_version": "1.2.0",
      "_model_name": "LayoutModel",
      "_view_count": null,
      "_view_module": "@jupyter-widgets/base",
      "_view_module_version": "1.2.0",
      "_view_name": "LayoutView",
      "align_content": null,
      "align_items": null,
      "align_self": null,
      "border": null,
      "bottom": null,
      "display": null,
      "flex": null,
      "flex_flow": null,
      "grid_area": null,
      "grid_auto_columns": null,
      "grid_auto_flow": null,
      "grid_auto_rows": null,
      "grid_column": null,
      "grid_gap": null,
      "grid_row": null,
      "grid_template_areas": null,
      "grid_template_columns": null,
      "grid_template_rows": null,
      "height": null,
      "justify_content": null,
      "justify_items": null,
      "left": null,
      "margin": null,
      "max_height": null,
      "max_width": null,
      "min_height": null,
      "min_width": null,
      "object_fit": null,
      "object_position": null,
      "order": null,
      "overflow": null,
      "overflow_x": null,
      "overflow_y": null,
      "padding": null,
      "right": null,
      "top": null,
      "visibility": null,
      "width": null
     }
    },
    "4f924d63bc0243798fcc0dcf91f640ae": {
     "model_module": "@jupyter-widgets/controls",
     "model_module_version": "1.5.0",
     "model_name": "LabelModel",
     "state": {
      "_dom_classes": [],
      "_model_module": "@jupyter-widgets/controls",
      "_model_module_version": "1.5.0",
      "_model_name": "LabelModel",
      "_view_count": null,
      "_view_module": "@jupyter-widgets/controls",
      "_view_module_version": "1.5.0",
      "_view_name": "LabelView",
      "description": "",
      "description_tooltip": null,
      "layout": "IPY_MODEL_74c6f83c2e6f41c9aeb0ba8cfd0c1e3d",
      "placeholder": "​",
      "style": "IPY_MODEL_5ca49aef822a4aa8acd9a7d8efa73235",
      "value": "Connecting..."
     }
    },
    "504a7821b59d4524b299cd127e34865c": {
     "model_module": "@jupyter-widgets/base",
     "model_module_version": "1.2.0",
     "model_name": "LayoutModel",
     "state": {
      "_model_module": "@jupyter-widgets/base",
      "_model_module_version": "1.2.0",
      "_model_name": "LayoutModel",
      "_view_count": null,
      "_view_module": "@jupyter-widgets/base",
      "_view_module_version": "1.2.0",
      "_view_name": "LayoutView",
      "align_content": null,
      "align_items": null,
      "align_self": null,
      "border": null,
      "bottom": null,
      "display": null,
      "flex": null,
      "flex_flow": null,
      "grid_area": null,
      "grid_auto_columns": null,
      "grid_auto_flow": null,
      "grid_auto_rows": null,
      "grid_column": null,
      "grid_gap": null,
      "grid_row": null,
      "grid_template_areas": null,
      "grid_template_columns": null,
      "grid_template_rows": null,
      "height": null,
      "justify_content": null,
      "justify_items": null,
      "left": null,
      "margin": null,
      "max_height": null,
      "max_width": null,
      "min_height": null,
      "min_width": null,
      "object_fit": null,
      "object_position": null,
      "order": null,
      "overflow": null,
      "overflow_x": null,
      "overflow_y": null,
      "padding": null,
      "right": null,
      "top": null,
      "visibility": null,
      "width": null
     }
    },
    "535e2f372f74492dbdfccf95fa2ccc51": {
     "model_module": "@jupyter-widgets/controls",
     "model_module_version": "1.5.0",
     "model_name": "HTMLModel",
     "state": {
      "_dom_classes": [],
      "_model_module": "@jupyter-widgets/controls",
      "_model_module_version": "1.5.0",
      "_model_name": "HTMLModel",
      "_view_count": null,
      "_view_module": "@jupyter-widgets/controls",
      "_view_module_version": "1.5.0",
      "_view_name": "HTMLView",
      "description": "",
      "description_tooltip": null,
      "layout": "IPY_MODEL_bca663d78c5b48c3a8a5cbab44403501",
      "placeholder": "​",
      "style": "IPY_MODEL_e56dc41c9e1a4922849bb6f3ac85385d",
      "value": "\n<b>Thank You</b></center>"
     }
    },
    "5ca49aef822a4aa8acd9a7d8efa73235": {
     "model_module": "@jupyter-widgets/controls",
     "model_module_version": "1.5.0",
     "model_name": "DescriptionStyleModel",
     "state": {
      "_model_module": "@jupyter-widgets/controls",
      "_model_module_version": "1.5.0",
      "_model_name": "DescriptionStyleModel",
      "_view_count": null,
      "_view_module": "@jupyter-widgets/base",
      "_view_module_version": "1.2.0",
      "_view_name": "StyleView",
      "description_width": ""
     }
    },
    "6edbbdb4f52b4a4d84c5ae9c986ce926": {
     "model_module": "@jupyter-widgets/controls",
     "model_module_version": "1.5.0",
     "model_name": "TextModel",
     "state": {
      "_dom_classes": [],
      "_model_module": "@jupyter-widgets/controls",
      "_model_module_version": "1.5.0",
      "_model_name": "TextModel",
      "_view_count": null,
      "_view_module": "@jupyter-widgets/controls",
      "_view_module_version": "1.5.0",
      "_view_name": "TextView",
      "continuous_update": true,
      "description": "Username:",
      "description_tooltip": null,
      "disabled": false,
      "layout": "IPY_MODEL_b198176b8666463bb22fc74613ca81c7",
      "placeholder": "​",
      "style": "IPY_MODEL_85a6a112fef043869b3f3f26a9afde08",
      "value": "hebamo7amed"
     }
    },
    "74c6f83c2e6f41c9aeb0ba8cfd0c1e3d": {
     "model_module": "@jupyter-widgets/base",
     "model_module_version": "1.2.0",
     "model_name": "LayoutModel",
     "state": {
      "_model_module": "@jupyter-widgets/base",
      "_model_module_version": "1.2.0",
      "_model_name": "LayoutModel",
      "_view_count": null,
      "_view_module": "@jupyter-widgets/base",
      "_view_module_version": "1.2.0",
      "_view_name": "LayoutView",
      "align_content": null,
      "align_items": null,
      "align_self": null,
      "border": null,
      "bottom": null,
      "display": null,
      "flex": null,
      "flex_flow": null,
      "grid_area": null,
      "grid_auto_columns": null,
      "grid_auto_flow": null,
      "grid_auto_rows": null,
      "grid_column": null,
      "grid_gap": null,
      "grid_row": null,
      "grid_template_areas": null,
      "grid_template_columns": null,
      "grid_template_rows": null,
      "height": null,
      "justify_content": null,
      "justify_items": null,
      "left": null,
      "margin": null,
      "max_height": null,
      "max_width": null,
      "min_height": null,
      "min_width": null,
      "object_fit": null,
      "object_position": null,
      "order": null,
      "overflow": null,
      "overflow_x": null,
      "overflow_y": null,
      "padding": null,
      "right": null,
      "top": null,
      "visibility": null,
      "width": null
     }
    },
    "7bca60effe184c59a2f2f9722f402d49": {
     "model_module": "@jupyter-widgets/controls",
     "model_module_version": "1.5.0",
     "model_name": "DescriptionStyleModel",
     "state": {
      "_model_module": "@jupyter-widgets/controls",
      "_model_module_version": "1.5.0",
      "_model_name": "DescriptionStyleModel",
      "_view_count": null,
      "_view_module": "@jupyter-widgets/base",
      "_view_module_version": "1.2.0",
      "_view_name": "StyleView",
      "description_width": ""
     }
    },
    "85a6a112fef043869b3f3f26a9afde08": {
     "model_module": "@jupyter-widgets/controls",
     "model_module_version": "1.5.0",
     "model_name": "DescriptionStyleModel",
     "state": {
      "_model_module": "@jupyter-widgets/controls",
      "_model_module_version": "1.5.0",
      "_model_name": "DescriptionStyleModel",
      "_view_count": null,
      "_view_module": "@jupyter-widgets/base",
      "_view_module_version": "1.2.0",
      "_view_name": "StyleView",
      "description_width": ""
     }
    },
    "88bd985ff0b241d29edf9d93f83fb6ce": {
     "model_module": "@jupyter-widgets/controls",
     "model_module_version": "1.5.0",
     "model_name": "DescriptionStyleModel",
     "state": {
      "_model_module": "@jupyter-widgets/controls",
      "_model_module_version": "1.5.0",
      "_model_name": "DescriptionStyleModel",
      "_view_count": null,
      "_view_module": "@jupyter-widgets/base",
      "_view_module_version": "1.2.0",
      "_view_name": "StyleView",
      "description_width": ""
     }
    },
    "949aca8fdc584623b1e7d456d4f33bd9": {
     "model_module": "@jupyter-widgets/base",
     "model_module_version": "1.2.0",
     "model_name": "LayoutModel",
     "state": {
      "_model_module": "@jupyter-widgets/base",
      "_model_module_version": "1.2.0",
      "_model_name": "LayoutModel",
      "_view_count": null,
      "_view_module": "@jupyter-widgets/base",
      "_view_module_version": "1.2.0",
      "_view_name": "LayoutView",
      "align_content": null,
      "align_items": "center",
      "align_self": null,
      "border": null,
      "bottom": null,
      "display": "flex",
      "flex": null,
      "flex_flow": "column",
      "grid_area": null,
      "grid_auto_columns": null,
      "grid_auto_flow": null,
      "grid_auto_rows": null,
      "grid_column": null,
      "grid_gap": null,
      "grid_row": null,
      "grid_template_areas": null,
      "grid_template_columns": null,
      "grid_template_rows": null,
      "height": null,
      "justify_content": null,
      "justify_items": null,
      "left": null,
      "margin": null,
      "max_height": null,
      "max_width": null,
      "min_height": null,
      "min_width": null,
      "object_fit": null,
      "object_position": null,
      "order": null,
      "overflow": null,
      "overflow_x": null,
      "overflow_y": null,
      "padding": null,
      "right": null,
      "top": null,
      "visibility": null,
      "width": "50%"
     }
    },
    "9593f1f003a64cf9a96900362576b76a": {
     "model_module": "@jupyter-widgets/controls",
     "model_module_version": "1.5.0",
     "model_name": "ButtonStyleModel",
     "state": {
      "_model_module": "@jupyter-widgets/controls",
      "_model_module_version": "1.5.0",
      "_model_name": "ButtonStyleModel",
      "_view_count": null,
      "_view_module": "@jupyter-widgets/base",
      "_view_module_version": "1.2.0",
      "_view_name": "StyleView",
      "button_color": null,
      "font_weight": ""
     }
    },
    "9ec64b1bfc0647bb96bf803c2068d7b5": {
     "model_module": "@jupyter-widgets/controls",
     "model_module_version": "1.5.0",
     "model_name": "ButtonModel",
     "state": {
      "_dom_classes": [],
      "_model_module": "@jupyter-widgets/controls",
      "_model_module_version": "1.5.0",
      "_model_name": "ButtonModel",
      "_view_count": null,
      "_view_module": "@jupyter-widgets/controls",
      "_view_module_version": "1.5.0",
      "_view_name": "ButtonView",
      "button_style": "",
      "description": "Login",
      "disabled": false,
      "icon": "",
      "layout": "IPY_MODEL_0fc862d1f32d4222a9eab0d3d3363952",
      "style": "IPY_MODEL_9593f1f003a64cf9a96900362576b76a",
      "tooltip": ""
     }
    },
    "b198176b8666463bb22fc74613ca81c7": {
     "model_module": "@jupyter-widgets/base",
     "model_module_version": "1.2.0",
     "model_name": "LayoutModel",
     "state": {
      "_model_module": "@jupyter-widgets/base",
      "_model_module_version": "1.2.0",
      "_model_name": "LayoutModel",
      "_view_count": null,
      "_view_module": "@jupyter-widgets/base",
      "_view_module_version": "1.2.0",
      "_view_name": "LayoutView",
      "align_content": null,
      "align_items": null,
      "align_self": null,
      "border": null,
      "bottom": null,
      "display": null,
      "flex": null,
      "flex_flow": null,
      "grid_area": null,
      "grid_auto_columns": null,
      "grid_auto_flow": null,
      "grid_auto_rows": null,
      "grid_column": null,
      "grid_gap": null,
      "grid_row": null,
      "grid_template_areas": null,
      "grid_template_columns": null,
      "grid_template_rows": null,
      "height": null,
      "justify_content": null,
      "justify_items": null,
      "left": null,
      "margin": null,
      "max_height": null,
      "max_width": null,
      "min_height": null,
      "min_width": null,
      "object_fit": null,
      "object_position": null,
      "order": null,
      "overflow": null,
      "overflow_x": null,
      "overflow_y": null,
      "padding": null,
      "right": null,
      "top": null,
      "visibility": null,
      "width": null
     }
    },
    "bca663d78c5b48c3a8a5cbab44403501": {
     "model_module": "@jupyter-widgets/base",
     "model_module_version": "1.2.0",
     "model_name": "LayoutModel",
     "state": {
      "_model_module": "@jupyter-widgets/base",
      "_model_module_version": "1.2.0",
      "_model_name": "LayoutModel",
      "_view_count": null,
      "_view_module": "@jupyter-widgets/base",
      "_view_module_version": "1.2.0",
      "_view_name": "LayoutView",
      "align_content": null,
      "align_items": null,
      "align_self": null,
      "border": null,
      "bottom": null,
      "display": null,
      "flex": null,
      "flex_flow": null,
      "grid_area": null,
      "grid_auto_columns": null,
      "grid_auto_flow": null,
      "grid_auto_rows": null,
      "grid_column": null,
      "grid_gap": null,
      "grid_row": null,
      "grid_template_areas": null,
      "grid_template_columns": null,
      "grid_template_rows": null,
      "height": null,
      "justify_content": null,
      "justify_items": null,
      "left": null,
      "margin": null,
      "max_height": null,
      "max_width": null,
      "min_height": null,
      "min_width": null,
      "object_fit": null,
      "object_position": null,
      "order": null,
      "overflow": null,
      "overflow_x": null,
      "overflow_y": null,
      "padding": null,
      "right": null,
      "top": null,
      "visibility": null,
      "width": null
     }
    },
    "ca360e1b101d4395af434fc52908477b": {
     "model_module": "@jupyter-widgets/controls",
     "model_module_version": "1.5.0",
     "model_name": "VBoxModel",
     "state": {
      "_dom_classes": [],
      "_model_module": "@jupyter-widgets/controls",
      "_model_module_version": "1.5.0",
      "_model_name": "VBoxModel",
      "_view_count": null,
      "_view_module": "@jupyter-widgets/controls",
      "_view_module_version": "1.5.0",
      "_view_name": "VBoxView",
      "box_style": "",
      "children": [
       "IPY_MODEL_0b16163efaa3467aac8c6c3a381acc04"
      ],
      "layout": "IPY_MODEL_949aca8fdc584623b1e7d456d4f33bd9"
     }
    },
    "da45d9a4491f4bb49a94d3a6f390e904": {
     "model_module": "@jupyter-widgets/controls",
     "model_module_version": "1.5.0",
     "model_name": "HTMLModel",
     "state": {
      "_dom_classes": [],
      "_model_module": "@jupyter-widgets/controls",
      "_model_module_version": "1.5.0",
      "_model_name": "HTMLModel",
      "_view_count": null,
      "_view_module": "@jupyter-widgets/controls",
      "_view_module_version": "1.5.0",
      "_view_name": "HTMLView",
      "description": "",
      "description_tooltip": null,
      "layout": "IPY_MODEL_504a7821b59d4524b299cd127e34865c",
      "placeholder": "​",
      "style": "IPY_MODEL_1c3f73d6e7d64e568520935df91bc862",
      "value": "<center> <img\nsrc=https://www.kaggle.com/static/images/site-logo.png\nalt='Kaggle'> <br> Create an API token from <a\nhref=\"https://www.kaggle.com/settings/account\" target=\"_blank\">your Kaggle\nsettings page</a> and paste it below along with your Kaggle username. <br> </center>"
     }
    },
    "e56dc41c9e1a4922849bb6f3ac85385d": {
     "model_module": "@jupyter-widgets/controls",
     "model_module_version": "1.5.0",
     "model_name": "DescriptionStyleModel",
     "state": {
      "_model_module": "@jupyter-widgets/controls",
      "_model_module_version": "1.5.0",
      "_model_name": "DescriptionStyleModel",
      "_view_count": null,
      "_view_module": "@jupyter-widgets/base",
      "_view_module_version": "1.2.0",
      "_view_name": "StyleView",
      "description_width": ""
     }
    },
    "ff752a123aec447cbc4ee24fd02fa347": {
     "model_module": "@jupyter-widgets/controls",
     "model_module_version": "1.5.0",
     "model_name": "PasswordModel",
     "state": {
      "_dom_classes": [],
      "_model_module": "@jupyter-widgets/controls",
      "_model_module_version": "1.5.0",
      "_model_name": "PasswordModel",
      "_view_count": null,
      "_view_module": "@jupyter-widgets/controls",
      "_view_module_version": "1.5.0",
      "_view_name": "PasswordView",
      "continuous_update": true,
      "description": "Token:",
      "description_tooltip": null,
      "disabled": false,
      "layout": "IPY_MODEL_290db3966a504b47bf6e23814a0b59c7",
      "placeholder": "​",
      "style": "IPY_MODEL_7bca60effe184c59a2f2f9722f402d49",
      "value": ""
     }
    }
   }
  }
 },
 "nbformat": 4,
 "nbformat_minor": 4
}
